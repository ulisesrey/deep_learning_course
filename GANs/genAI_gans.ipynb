{
 "cells": [
  {
   "cell_type": "markdown",
   "metadata": {
    "id": "m9izPPFuEem5"
   },
   "source": [
    "<div style=\"width: 100%; clear: both;\">\n",
    "<div style=\"float: left; width: 50%;\">\n",
    "<img src=\"https://www.uoc.edu/portal/_resources/common/imatges/marca_UOC/llibre-estil/logo-UOC-masterbrand-vertical.jpg\", align=\"left\">\n",
    "</div>\n",
    "<div style=\"float: right; width: 50%;\">\n",
    "<p style=\"margin: 0; padding-top: 22px; text-align:right;\">M2.875 · Deep Learning · PEC1</p>\n",
    "<p style=\"margin: 0; text-align:right;\">2023-2 · Màster universitari en Ciència de Dades (Data Science)</p>\n",
    "<p style=\"margin: 0; text-align:right; padding-button: 100px;\">Estudis d'Informàtica, Multimèdia i Telecomunicació</p>\n",
    "</div>\n",
    "</div>\n",
    "<div style=\"width:100%;\">&nbsp;</div>\n",
    "\n",
    "\n",
    "# PAC4 Models generatius\n",
    "\n",
    "**Títol:** GAN condicionada\n",
    "\n",
    "**Descripció:** Construcció i entrenament d'una GAN condicionada a la classe."
   ]
  },
  {
   "cell_type": "markdown",
   "metadata": {
    "id": "eFB07beyEem6"
   },
   "source": [
    "Les xarxes generatives adversàries (GANs) ens permeten generar dades d'imatges, vídeos o àudio a partir d'una entrada aleatòria. Normalment, l'entrada aleatòria es mostreja d'una distribució normal, abans de passar per una sèrie de transformacions que la converteixen en alguna cosa plausible (imatge, vídeo, àudio, etc.).\n",
    "\n",
    "No obstant això, un simple DCGAN no ens permet controlar l'aparença (per exemple, la classe) de les mostres que estem generant. Per exemple, amb una GAN que genera dígits manuscrits, un simple DCGAN no ens permetria escollir la classe dels dígits que estem generant. Per poder controlar el que generem, necessitem condicionar la sortida de la GAN a una entrada semàntica, com ara la classe d'una imatge.\n",
    "\n",
    "En aquesta PAC, construirem una GAN Condicional que pugui generar dígits manuscrits condicionats a una classe determinada.\n",
    "\n",
    "\n",
    "\n"
   ]
  },
  {
   "cell_type": "markdown",
   "metadata": {
    "id": "kOuvH9dlBMe4"
   },
   "source": [
    "<div style=\"background-color: #EDF7FF; border-color: #7C9DBF; border-left: 5px solid #7C9DBF; padding: 0.5em;\">\n",
    "<strong>Pregunta [0,5 pts.]:</strong> Quines aplicacions d'utilitat pot tenir un model com aquest?      \n",
    "</div>"
   ]
  },
  {
   "cell_type": "markdown",
   "metadata": {
    "id": "o_eZtTi4BMe5"
   },
   "source": [
    "Principalment aquest model es pot fer servir per aplicacions de generar noves dades sintètiques. Això pot ser util de per si en molts ambits, per exemple en l'art, es pot fer un quadre nou amb l'estil de Dalí o Miró, o amb una mescla dels dos estils. Evidentment això es pot fer servir en marketing, per generar imatges de productes, en videojocs, etc. Una aplicació molt important, i precisament per la Ciencia de dades és la creació de noves imatges per l'entrenament. Per exemple si tenim poques dades i volem generar-ne més, podem utilitzar GANs, i així en augmentar la quantitat de training data, augmentar la accuracy del nostre model. O si el nostre dataset està desbalancejat i tenim menys imatges d'una categoria, el podem balancejar a partir d'imatge sintetiques generades amb GANs."
   ]
  },
  {
   "cell_type": "code",
   "execution_count": 1,
   "metadata": {
    "colab": {
     "base_uri": "https://localhost:8080/"
    },
    "id": "mxynose2Eem8",
    "outputId": "907736fd-0826-4361-cfe4-8c4abb141980"
   },
   "outputs": [
    {
     "name": "stdout",
     "output_type": "stream",
     "text": [
      "  Preparing metadata (setup.py) ... \u001b[?25l\u001b[?25hdone\n"
     ]
    }
   ],
   "source": [
    "!pip3 install -q git+https://github.com/tensorflow/docs"
   ]
  },
  {
   "cell_type": "markdown",
   "metadata": {
    "id": "1f1gVY9gEem8"
   },
   "source": [
    "## 0. Importacions necessàries"
   ]
  },
  {
   "cell_type": "code",
   "execution_count": 2,
   "metadata": {
    "id": "XwOPatumEem9"
   },
   "outputs": [],
   "source": [
    "import keras\n",
    "\n",
    "from keras import layers\n",
    "from keras import ops\n",
    "from tensorflow_docs.vis import embed\n",
    "import tensorflow as tf\n",
    "import numpy as np\n",
    "import imageio\n",
    "from sklearn.preprocessing import OneHotEncoder"
   ]
  },
  {
   "cell_type": "markdown",
   "metadata": {
    "id": "CqcCBw3zEem9"
   },
   "source": [
    "## 1. Definició de constants i hiperparàmetres"
   ]
  },
  {
   "cell_type": "code",
   "execution_count": 3,
   "metadata": {
    "id": "Ro4S6kLOEem9"
   },
   "outputs": [],
   "source": [
    "batch_size = 64\n",
    "num_channels = 1\n",
    "num_classes = 10\n",
    "image_size = 28\n",
    "latent_dim = 128"
   ]
  },
  {
   "cell_type": "markdown",
   "metadata": {
    "id": "JJLeU9ySBMe6"
   },
   "source": [
    "<div style=\"background-color: #EDF7FF; border-color: #7C9DBF; border-left: 5px solid #7C9DBF; padding: 0.5em;\">\n",
    "<strong>Pregunta [0,5 pts.]:</strong> Per què serveix la variable `latent_dim`?\n",
    "    \n",
    "</div>"
   ]
  },
  {
   "cell_type": "markdown",
   "metadata": {
    "id": "ypWrP3tyBMe6"
   },
   "source": [
    "La latent dimension és un hiperperametre de les GAN. Representa les dimensions del vector que generara el \"noise\" sintetic per generar noves dades.\n",
    "\n",
    "Es molt important que tingui les dimensions correctes, un valor gran farà que la GAN pugui aprendre representacions complexes, mentre que un petit farà que s'enfoqui en les features més importants, però no serà capaç de trobar els detalls més petits."
   ]
  },
  {
   "cell_type": "markdown",
   "metadata": {
    "id": "Pxv9-UatEem-"
   },
   "source": [
    "## 2. Càrrega del dataset i preprocessat"
   ]
  },
  {
   "cell_type": "markdown",
   "metadata": {
    "id": "lI2VGLsSBMe6"
   },
   "source": [
    "<div style=\"background-color: #EDF7FF; border-color: #7C9DBF; border-left: 5px solid #7C9DBF; padding: 0.5em;\">\n",
    "<strong>Exercici [1,5 pts.]:</strong> Descarrega i carrega les dades:\n",
    "</div>\n",
    "\n",
    "Descarrega el conjunt de dades de la web:\n",
    "https://www.kaggle.com/datasets/jordidelatorreuoc/handwritten-digits-with-writer-characteristics/data\n",
    "\n",
    "Utilitzarem la versió de 28x28. Analitza el contingut del conjunt de dades. Identifica les variables d'interès, images en format 28x28 i etiquetes (digits) i carrega-les en un dataset de tensorflow. Les variables s'han de carregar, normalitzar a [0,1]. Les classes s'han de vectoritzar, p.e. classe 9 a [0, 0, 0, 0, 0, 0 ,0 ,0, 1] i les imatges han de tenir les dimensions correctes per ser processades posterioment amb tensorflow.\n",
    "\n",
    "Les dimensions de sortida haurien de ser:\n",
    "\n",
    "Shape of images: (13580, 28, 28, 1)\n",
    "\n",
    "Shape of labels: (13580, 10)\n",
    "\n",
    "S'espera com a sortida del procés una variable `dataset` del tipus `tf.data.Dataset`"
   ]
  },
  {
   "cell_type": "code",
   "execution_count": 4,
   "metadata": {
    "id": "zIKheqCN1QPb"
   },
   "outputs": [],
   "source": [
    "import numpy as np\n",
    "import matplotlib.pyplot as plt"
   ]
  },
  {
   "cell_type": "code",
   "execution_count": 5,
   "metadata": {
    "colab": {
     "base_uri": "https://localhost:8080/"
    },
    "id": "z44Ihf8JyB8B",
    "outputId": "891dcc2d-af07-484d-f638-1a7cbced3dcf"
   },
   "outputs": [
    {
     "name": "stdout",
     "output_type": "stream",
     "text": [
      "Mounted at /content/drive\n"
     ]
    }
   ],
   "source": [
    "from google.colab import drive\n",
    "drive.mount('/content/drive')"
   ]
  },
  {
   "cell_type": "code",
   "execution_count": 31,
   "metadata": {
    "id": "SdtMLXZE0sHG"
   },
   "outputs": [],
   "source": [
    "# read the npy file\n",
    "images = np.load('/content/drive/MyDrive/HDW/Images(28x28).npy')"
   ]
  },
  {
   "cell_type": "code",
   "execution_count": 17,
   "metadata": {
    "colab": {
     "base_uri": "https://localhost:8080/"
    },
    "id": "0XKrn5NtISzC",
    "outputId": "de085a7b-1f14-4507-d18a-db7d3f30fe41"
   },
   "outputs": [
    {
     "data": {
      "text/plain": [
       "(13580, 28, 28)"
      ]
     },
     "execution_count": 17,
     "metadata": {},
     "output_type": "execute_result"
    }
   ],
   "source": [
    "images.shape"
   ]
  },
  {
   "cell_type": "code",
   "execution_count": 20,
   "metadata": {
    "colab": {
     "base_uri": "https://localhost:8080/",
     "height": 468
    },
    "id": "Bfi-XJSUKSBm",
    "outputId": "e22f5e03-cd81-449e-f3e2-727554b123d8"
   },
   "outputs": [
    {
     "data": {
      "text/plain": [
       "<matplotlib.image.AxesImage at 0x7b0db3d42ec0>"
      ]
     },
     "execution_count": 20,
     "metadata": {},
     "output_type": "execute_result"
    },
    {
     "data": {
      "image/png": "[encoded data removed]",
      "text/plain": [
       "<Figure size 640x480 with 1 Axes>"
      ]
     },
     "metadata": {},
     "output_type": "display_data"
    }
   ],
   "source": [
    "plt.imshow(images[42])"
   ]
  },
  {
   "cell_type": "code",
   "execution_count": 11,
   "metadata": {
    "colab": {
     "base_uri": "https://localhost:8080/"
    },
    "id": "un9all7bI1-F",
    "outputId": "9030b2ec-8c68-4902-f862-7a959e28d8e3"
   },
   "outputs": [
    {
     "data": {
      "text/plain": [
       "array([[  1,   0,  29, ...,   0,   2,   1],\n",
       "       [  1,   0,  29, ...,   0,   2,   1],\n",
       "       [  1,   0,  29, ...,   0,   2,   1],\n",
       "       ...,\n",
       "       [  0, 117,  68, ...,   1,   1,   0],\n",
       "       [  0, 117,  68, ...,   1,   1,   0],\n",
       "       [  0, 117,  68, ...,   1,   1,   0]], dtype=int32)"
      ]
     },
     "execution_count": 11,
     "metadata": {},
     "output_type": "execute_result"
    }
   ],
   "source": [
    "writer_info = images = np.load('/content/drive/MyDrive/HDW/WriterInfo.npy')\n",
    "writer_info"
   ]
  },
  {
   "cell_type": "code",
   "execution_count": 12,
   "metadata": {
    "colab": {
     "base_uri": "https://localhost:8080/"
    },
    "id": "pRUH7ov-Jbzi",
    "outputId": "2123acf4-3df3-4f58-dbba-8e0af0e60b10"
   },
   "outputs": [
    {
     "data": {
      "text/plain": [
       "array([0, 1, 2, 3, 4, 5, 6, 7, 8, 9], dtype=int32)"
      ]
     },
     "execution_count": 12,
     "metadata": {},
     "output_type": "execute_result"
    }
   ],
   "source": [
    "np.unique(writer_info[:,0])"
   ]
  },
  {
   "cell_type": "code",
   "execution_count": 32,
   "metadata": {
    "id": "1VPG82mGYBj2"
   },
   "outputs": [],
   "source": [
    "# We normalize the images\n",
    "images = images.astype(\"float32\")/255"
   ]
  },
  {
   "cell_type": "code",
   "execution_count": 33,
   "metadata": {
    "id": "duRRoS80aPlp"
   },
   "outputs": [],
   "source": [
    "images = np.expand_dims(images, axis=-1)"
   ]
  },
  {
   "cell_type": "code",
   "execution_count": 34,
   "metadata": {
    "id": "EgDetDVTYiQ4"
   },
   "outputs": [],
   "source": [
    "images = images.reshape(-1, 28, 28, 1)"
   ]
  },
  {
   "cell_type": "code",
   "execution_count": 35,
   "metadata": {
    "colab": {
     "base_uri": "https://localhost:8080/"
    },
    "id": "TusuLyTuZ69y",
    "outputId": "2a740f5d-0e5e-4a40-a545-6637fa77bc56"
   },
   "outputs": [
    {
     "data": {
      "text/plain": [
       "(13580, 28, 28, 1)"
      ]
     },
     "execution_count": 35,
     "metadata": {},
     "output_type": "execute_result"
    }
   ],
   "source": [
    "images.shape"
   ]
  },
  {
   "cell_type": "code",
   "execution_count": 24,
   "metadata": {
    "id": "pIHyrgqyY2uk"
   },
   "outputs": [],
   "source": [
    "# We work on the labels\n",
    "from tensorflow.keras.utils import to_categorical\n",
    "\n",
    "labels = to_categorical(writer_info[:,0], num_classes=10)"
   ]
  },
  {
   "cell_type": "code",
   "execution_count": 25,
   "metadata": {
    "colab": {
     "base_uri": "https://localhost:8080/"
    },
    "id": "kQdzY6zqY_-6",
    "outputId": "fb5c860c-0632-4f23-ac26-d65903bfb68a"
   },
   "outputs": [
    {
     "data": {
      "text/plain": [
       "array([[0., 1., 0., ..., 0., 0., 0.],\n",
       "       [0., 1., 0., ..., 0., 0., 0.],\n",
       "       [0., 1., 0., ..., 0., 0., 0.],\n",
       "       ...,\n",
       "       [1., 0., 0., ..., 0., 0., 0.],\n",
       "       [1., 0., 0., ..., 0., 0., 0.],\n",
       "       [1., 0., 0., ..., 0., 0., 0.]])"
      ]
     },
     "execution_count": 25,
     "metadata": {},
     "output_type": "execute_result"
    }
   ],
   "source": [
    "labels"
   ]
  },
  {
   "cell_type": "code",
   "execution_count": 27,
   "metadata": {
    "colab": {
     "base_uri": "https://localhost:8080/"
    },
    "id": "dcuN956iZCWO",
    "outputId": "04759853-8a48-4976-e688-daa1ba8019b6"
   },
   "outputs": [
    {
     "data": {
      "text/plain": [
       "(13580, 10)"
      ]
     },
     "execution_count": 27,
     "metadata": {},
     "output_type": "execute_result"
    }
   ],
   "source": [
    "labels.shape"
   ]
  },
  {
   "cell_type": "code",
   "execution_count": 38,
   "metadata": {
    "id": "SSIO-75HZqKP"
   },
   "outputs": [],
   "source": [
    "# we organize it as a dataset\n",
    "dataset = tf.data.Dataset.from_tensor_slices((images, labels))\n",
    "dataset = dataset.shuffle(buffer_size=1024).batch(batch_size)"
   ]
  },
  {
   "cell_type": "code",
   "execution_count": 36,
   "metadata": {
    "colab": {
     "base_uri": "https://localhost:8080/"
    },
    "id": "Q-MghsJ5Eem-",
    "outputId": "9cc2408a-b2d0-4962-c9bd-d701c4bd010a"
   },
   "outputs": [
    {
     "name": "stdout",
     "output_type": "stream",
     "text": [
      "Shape of images: (13580, 28, 28, 1)\n",
      "Shape of labels: (13580, 10)\n"
     ]
    }
   ],
   "source": [
    "# ESCRIU EL CODI AQUÍ\n",
    "\n",
    "\n",
    "print(f\"Shape of images: {images.shape}\")\n",
    "print(f\"Shape of labels: {labels.shape}\")"
   ]
  },
  {
   "cell_type": "markdown",
   "metadata": {
    "id": "KWxxKgY5Eem-"
   },
   "source": [
    "## 3. Càlcul del nombre de canals d'entrada per al generador i el discriminador.\n",
    "\n",
    "En una GAN regular (no condicional), comencem per mostrejar soroll (d'una dimensió fixa) d'una distribució normal. En el nostre cas, també hem de tenir en compte les etiquetes de classe. Haurem d'afegir el nombre de classes als canals d'entrada del generador (entrada de soroll) i també al discriminador (entrada de la imatge generada)."
   ]
  },
  {
   "cell_type": "code",
   "execution_count": 37,
   "metadata": {
    "colab": {
     "base_uri": "https://localhost:8080/"
    },
    "id": "fvyQLXq4Eem_",
    "outputId": "a2d40af2-4f3d-46fb-f758-19d28778e6e1"
   },
   "outputs": [
    {
     "name": "stdout",
     "output_type": "stream",
     "text": [
      "138 11\n"
     ]
    }
   ],
   "source": [
    "generator_in_channels = latent_dim + num_classes\n",
    "discriminator_in_channels = num_channels + num_classes\n",
    "print(generator_in_channels, discriminator_in_channels)"
   ]
  },
  {
   "cell_type": "markdown",
   "metadata": {
    "id": "vvW-YzFjBMe7"
   },
   "source": [
    "<div style=\"background-color: #EDF7FF; border-color: #7C9DBF; border-left: 5px solid #7C9DBF; padding: 0.5em;\">\n",
    "<strong>Pregunta [0,5 pts.]:</strong> Justifica per què serveixen les variables anteriors i quina és la necessitat de cadascuna d'elles      \n",
    "</div>"
   ]
  },
  {
   "cell_type": "markdown",
   "metadata": {
    "id": "iM6Al6kOBMe7"
   },
   "source": [
    "La variable generator_in_channels és la suma del latent_dim i el numero de classes. El latent_dim s'ha explicat anteriorment, i el nombre de classes es refereix en el nostre cas a [0,1,2,3,4,5,6,7,8,9], per tant 10 classes.\n",
    "\n",
    "El discriminador_in_channels en canvi es el nombre de classes (10) més el nombre de canals de les nostres imatges. En aquest cas com que les imatges son en escala de grisos doncs es 1."
   ]
  },
  {
   "cell_type": "markdown",
   "metadata": {
    "id": "gibFoN0cEem_"
   },
   "source": [
    "## 4. Implementació del Generador i el Discriminador"
   ]
  },
  {
   "cell_type": "markdown",
   "metadata": {
    "id": "R341_-dtBMe7"
   },
   "source": [
    "<div style=\"background-color: #EDF7FF; border-color: #7C9DBF; border-left: 5px solid #7C9DBF; padding: 0.5em;\">\n",
    "<strong>Pregunta [3 pts.]:</strong>\n",
    "Desenvolupeu un model de Deep Learning utilitzant Keras per a generar imatges d'una base de dades específica. El vostre objectiu és construir un discriminador i un generador que formin part d'una xarxa antagonista generativa (GAN). El discriminador ha de ser capaç de distingir entre imatges reals i les generades pel generador, mentre que el generador ha de crear imatges que el discriminador no pugui distingir com a falses. Utilitzeu les capes de convolució, activació i denses per construir els models de manera que compleixin amb les dimensions especificades de les entrades i sortides. Assegureu-vos de gestionar adequadament les dimensions de les capes convolucionals i transconvolucionals per obtenir les dimensions de sortida desitjades. Després de la creació dels models, podeu entrenar la GAN per generar imatges que siguin visuals i realistes. Heu de fer recerca online per generar la vosta proposta. Les variables associades al discriminador i el generador resultants s'hauran de dir `generator` i `discriminator`.\n",
    "\n",
    "</div>"
   ]
  },
  {
   "cell_type": "code",
   "execution_count": 40,
   "metadata": {
    "id": "V2ph1icUEem_"
   },
   "outputs": [],
   "source": [
    "# Create the discriminator.\n",
    "discriminator = keras.Sequential(\n",
    "    [\n",
    "        keras.layers.InputLayer((28, 28, discriminator_in_channels)),\n",
    "        layers.Conv2D(64, (3, 3), strides=(2, 2), padding=\"same\"),\n",
    "        layers.LeakyReLU(negative_slope=0.2),\n",
    "        layers.Conv2D(128, (3, 3), strides=(2, 2), padding=\"same\"),\n",
    "        layers.LeakyReLU(negative_slope=0.2),\n",
    "        layers.GlobalMaxPooling2D(),\n",
    "        layers.Dense(1),\n",
    "    ],\n",
    "    name=\"discriminator\",\n",
    ")\n",
    "\n",
    "# Create the generator.\n",
    "generator = keras.Sequential(\n",
    "    [\n",
    "        keras.layers.InputLayer((generator_in_channels,)),\n",
    "        layers.Dense(7 * 7 * generator_in_channels),\n",
    "        layers.LeakyReLU(negative_slope=0.2),\n",
    "        layers.Reshape((7, 7, generator_in_channels)),\n",
    "        layers.Conv2DTranspose(128, (4, 4), strides=(2, 2), padding=\"same\"),\n",
    "        layers.LeakyReLU(negative_slope=0.2),\n",
    "        layers.Conv2DTranspose(128, (4, 4), strides=(2, 2), padding=\"same\"),\n",
    "        layers.LeakyReLU(negative_slope=0.2),\n",
    "        layers.Conv2D(1, (7, 7), padding=\"same\", activation=\"sigmoid\"),\n",
    "    ],\n",
    "    name=\"generator\",\n",
    ")\n"
   ]
  },
  {
   "cell_type": "code",
   "execution_count": 41,
   "metadata": {
    "id": "RWWVO-Vddn-J"
   },
   "outputs": [],
   "source": [
    "class ConditionalGAN(keras.Model):\n",
    "    def __init__(self, discriminator, generator, latent_dim):\n",
    "        super().__init__()\n",
    "        self.discriminator = discriminator\n",
    "        self.generator = generator\n",
    "        self.latent_dim = latent_dim\n",
    "        self.seed_generator = keras.random.SeedGenerator(1337)\n",
    "        self.gen_loss_tracker = keras.metrics.Mean(name=\"generator_loss\")\n",
    "        self.disc_loss_tracker = keras.metrics.Mean(name=\"discriminator_loss\")\n",
    "\n",
    "    @property\n",
    "    def metrics(self):\n",
    "        return [self.gen_loss_tracker, self.disc_loss_tracker]\n",
    "\n",
    "    def compile(self, d_optimizer, g_optimizer, loss_fn):\n",
    "        super().compile()\n",
    "        self.d_optimizer = d_optimizer\n",
    "        self.g_optimizer = g_optimizer\n",
    "        self.loss_fn = loss_fn\n",
    "\n",
    "    def train_step(self, data):\n",
    "        # Unpack the data.\n",
    "        real_images, one_hot_labels = data\n",
    "\n",
    "        # Add dummy dimensions to the labels so that they can be concatenated with\n",
    "        # the images. This is for the discriminator.\n",
    "        image_one_hot_labels = one_hot_labels[:, :, None, None]\n",
    "        image_one_hot_labels = ops.repeat(\n",
    "            image_one_hot_labels, repeats=[image_size * image_size]\n",
    "        )\n",
    "        image_one_hot_labels = ops.reshape(\n",
    "            image_one_hot_labels, (-1, image_size, image_size, num_classes)\n",
    "        )\n",
    "\n",
    "        # Sample random points in the latent space and concatenate the labels.\n",
    "        # This is for the generator.\n",
    "        batch_size = ops.shape(real_images)[0]\n",
    "        random_latent_vectors = keras.random.normal(\n",
    "            shape=(batch_size, self.latent_dim), seed=self.seed_generator\n",
    "        )\n",
    "        random_vector_labels = ops.concatenate(\n",
    "            [random_latent_vectors, one_hot_labels], axis=1\n",
    "        )\n",
    "\n",
    "        # Decode the noise (guided by labels) to fake images.\n",
    "        generated_images = self.generator(random_vector_labels)\n",
    "\n",
    "        # Combine them with real images. Note that we are concatenating the labels\n",
    "        # with these images here.\n",
    "        fake_image_and_labels = ops.concatenate(\n",
    "            [generated_images, image_one_hot_labels], -1\n",
    "        )\n",
    "        real_image_and_labels = ops.concatenate([real_images, image_one_hot_labels], -1)\n",
    "        combined_images = ops.concatenate(\n",
    "            [fake_image_and_labels, real_image_and_labels], axis=0\n",
    "        )\n",
    "\n",
    "        # Assemble labels discriminating real from fake images.\n",
    "        labels = ops.concatenate(\n",
    "            [ops.ones((batch_size, 1)), ops.zeros((batch_size, 1))], axis=0\n",
    "        )\n",
    "\n",
    "        # Train the discriminator.\n",
    "        with tf.GradientTape() as tape:\n",
    "            predictions = self.discriminator(combined_images)\n",
    "            d_loss = self.loss_fn(labels, predictions)\n",
    "        grads = tape.gradient(d_loss, self.discriminator.trainable_weights)\n",
    "        self.d_optimizer.apply_gradients(\n",
    "            zip(grads, self.discriminator.trainable_weights)\n",
    "        )\n",
    "\n",
    "        # Sample random points in the latent space.\n",
    "        random_latent_vectors = keras.random.normal(\n",
    "            shape=(batch_size, self.latent_dim), seed=self.seed_generator\n",
    "        )\n",
    "        random_vector_labels = ops.concatenate(\n",
    "            [random_latent_vectors, one_hot_labels], axis=1\n",
    "        )\n",
    "\n",
    "        # Assemble labels that say \"all real images\".\n",
    "        misleading_labels = ops.zeros((batch_size, 1))\n",
    "\n",
    "        # Train the generator (note that we should *not* update the weights\n",
    "        # of the discriminator)!\n",
    "        with tf.GradientTape() as tape:\n",
    "            fake_images = self.generator(random_vector_labels)\n",
    "            fake_image_and_labels = ops.concatenate(\n",
    "                [fake_images, image_one_hot_labels], -1\n",
    "            )\n",
    "            predictions = self.discriminator(fake_image_and_labels)\n",
    "            g_loss = self.loss_fn(misleading_labels, predictions)\n",
    "        grads = tape.gradient(g_loss, self.generator.trainable_weights)\n",
    "        self.g_optimizer.apply_gradients(zip(grads, self.generator.trainable_weights))\n",
    "\n",
    "        # Monitor loss.\n",
    "        self.gen_loss_tracker.update_state(g_loss)\n",
    "        self.disc_loss_tracker.update_state(d_loss)\n",
    "        return {\n",
    "            \"g_loss\": self.gen_loss_tracker.result(),\n",
    "            \"d_loss\": self.disc_loss_tracker.result(),\n",
    "        }\n"
   ]
  },
  {
   "cell_type": "code",
   "execution_count": 43,
   "metadata": {
    "colab": {
     "base_uri": "https://localhost:8080/"
    },
    "collapsed": true,
    "id": "IoSG6Xi0do0C",
    "outputId": "167c847a-5bf0-4132-c9ff-70162af151ed"
   },
   "outputs": [
    {
     "name": "stdout",
     "output_type": "stream",
     "text": [
      "Epoch 1/200\n",
      "\u001b[1m213/213\u001b[0m \u001b[32m━━━━━━━━━━━━━━━━━━━━\u001b[0m\u001b[37m\u001b[0m \u001b[1m11s\u001b[0m 25ms/step - d_loss: 0.0758 - g_loss: 3.5939\n",
      "Epoch 2/200\n",
      "\u001b[1m 22/213\u001b[0m \u001b[32m━━\u001b[0m\u001b[37m━━━━━━━━━━━━━━━━━━\u001b[0m \u001b[1m1s\u001b[0m 8ms/step - d_loss: 0.0558 - g_loss: 3.6843"
     ]
    },
    {
     "name": "stderr",
     "output_type": "stream",
     "text": [
      "/usr/local/lib/python3.10/dist-packages/keras/src/callbacks/early_stopping.py:155: UserWarning: Early stopping conditioned on metric `loss` which is not available. Available metrics are: d_loss,g_loss\n",
      "  current = self.get_monitor_value(logs)\n"
     ]
    },
    {
     "name": "stdout",
     "output_type": "stream",
     "text": [
      "\u001b[1m213/213\u001b[0m \u001b[32m━━━━━━━━━━━━━━━━━━━━\u001b[0m\u001b[37m\u001b[0m \u001b[1m2s\u001b[0m 8ms/step - d_loss: 0.0505 - g_loss: 3.8056\n",
      "Epoch 3/200\n",
      "\u001b[1m213/213\u001b[0m \u001b[32m━━━━━━━━━━━━━━━━━━━━\u001b[0m\u001b[37m\u001b[0m \u001b[1m2s\u001b[0m 8ms/step - d_loss: 0.0406 - g_loss: 4.1417\n",
      "Epoch 4/200\n",
      "\u001b[1m213/213\u001b[0m \u001b[32m━━━━━━━━━━━━━━━━━━━━\u001b[0m\u001b[37m\u001b[0m \u001b[1m2s\u001b[0m 8ms/step - d_loss: 0.0337 - g_loss: 4.4000\n",
      "Epoch 5/200\n",
      "\u001b[1m213/213\u001b[0m \u001b[32m━━━━━━━━━━━━━━━━━━━━\u001b[0m\u001b[37m\u001b[0m \u001b[1m2s\u001b[0m 8ms/step - d_loss: 0.0319 - g_loss: 4.5478\n",
      "Epoch 6/200\n",
      "\u001b[1m213/213\u001b[0m \u001b[32m━━━━━━━━━━━━━━━━━━━━\u001b[0m\u001b[37m\u001b[0m \u001b[1m2s\u001b[0m 8ms/step - d_loss: 0.0330 - g_loss: 4.7120\n",
      "Epoch 7/200\n",
      "\u001b[1m213/213\u001b[0m \u001b[32m━━━━━━━━━━━━━━━━━━━━\u001b[0m\u001b[37m\u001b[0m \u001b[1m2s\u001b[0m 8ms/step - d_loss: 0.2055 - g_loss: 3.8093\n",
      "Epoch 8/200\n",
      "\u001b[1m213/213\u001b[0m \u001b[32m━━━━━━━━━━━━━━━━━━━━\u001b[0m\u001b[37m\u001b[0m \u001b[1m2s\u001b[0m 8ms/step - d_loss: 0.5583 - g_loss: 1.6017\n",
      "Epoch 9/200\n",
      "\u001b[1m213/213\u001b[0m \u001b[32m━━━━━━━━━━━━━━━━━━━━\u001b[0m\u001b[37m\u001b[0m \u001b[1m2s\u001b[0m 8ms/step - d_loss: 0.4971 - g_loss: 1.4249\n",
      "Epoch 10/200\n",
      "\u001b[1m213/213\u001b[0m \u001b[32m━━━━━━━━━━━━━━━━━━━━\u001b[0m\u001b[37m\u001b[0m \u001b[1m2s\u001b[0m 8ms/step - d_loss: 0.5122 - g_loss: 1.3551\n",
      "Epoch 11/200\n",
      "\u001b[1m213/213\u001b[0m \u001b[32m━━━━━━━━━━━━━━━━━━━━\u001b[0m\u001b[37m\u001b[0m \u001b[1m2s\u001b[0m 9ms/step - d_loss: 0.5452 - g_loss: 1.2620\n",
      "Epoch 12/200\n",
      "\u001b[1m213/213\u001b[0m \u001b[32m━━━━━━━━━━━━━━━━━━━━\u001b[0m\u001b[37m\u001b[0m \u001b[1m2s\u001b[0m 9ms/step - d_loss: 0.5533 - g_loss: 1.2093\n",
      "Epoch 13/200\n",
      "\u001b[1m213/213\u001b[0m \u001b[32m━━━━━━━━━━━━━━━━━━━━\u001b[0m\u001b[37m\u001b[0m \u001b[1m2s\u001b[0m 8ms/step - d_loss: 0.5640 - g_loss: 1.1697\n",
      "Epoch 14/200\n",
      "\u001b[1m213/213\u001b[0m \u001b[32m━━━━━━━━━━━━━━━━━━━━\u001b[0m\u001b[37m\u001b[0m \u001b[1m2s\u001b[0m 9ms/step - d_loss: 0.5781 - g_loss: 1.1301\n",
      "Epoch 15/200\n",
      "\u001b[1m213/213\u001b[0m \u001b[32m━━━━━━━━━━━━━━━━━━━━\u001b[0m\u001b[37m\u001b[0m \u001b[1m2s\u001b[0m 8ms/step - d_loss: 0.5836 - g_loss: 1.1024\n",
      "Epoch 16/200\n",
      "\u001b[1m213/213\u001b[0m \u001b[32m━━━━━━━━━━━━━━━━━━━━\u001b[0m\u001b[37m\u001b[0m \u001b[1m2s\u001b[0m 8ms/step - d_loss: 0.5800 - g_loss: 1.0539\n",
      "Epoch 17/200\n",
      "\u001b[1m213/213\u001b[0m \u001b[32m━━━━━━━━━━━━━━━━━━━━\u001b[0m\u001b[37m\u001b[0m \u001b[1m2s\u001b[0m 8ms/step - d_loss: 0.5961 - g_loss: 1.0312\n",
      "Epoch 18/200\n",
      "\u001b[1m213/213\u001b[0m \u001b[32m━━━━━━━━━━━━━━━━━━━━\u001b[0m\u001b[37m\u001b[0m \u001b[1m3s\u001b[0m 8ms/step - d_loss: 0.6028 - g_loss: 1.0193\n",
      "Epoch 19/200\n",
      "\u001b[1m213/213\u001b[0m \u001b[32m━━━━━━━━━━━━━━━━━━━━\u001b[0m\u001b[37m\u001b[0m \u001b[1m2s\u001b[0m 8ms/step - d_loss: 0.5998 - g_loss: 1.0037\n",
      "Epoch 20/200\n",
      "\u001b[1m213/213\u001b[0m \u001b[32m━━━━━━━━━━━━━━━━━━━━\u001b[0m\u001b[37m\u001b[0m \u001b[1m2s\u001b[0m 8ms/step - d_loss: 0.6062 - g_loss: 0.9992\n",
      "Epoch 21/200\n",
      "\u001b[1m213/213\u001b[0m \u001b[32m━━━━━━━━━━━━━━━━━━━━\u001b[0m\u001b[37m\u001b[0m \u001b[1m2s\u001b[0m 8ms/step - d_loss: 0.6135 - g_loss: 0.9925\n",
      "Epoch 22/200\n",
      "\u001b[1m213/213\u001b[0m \u001b[32m━━━━━━━━━━━━━━━━━━━━\u001b[0m\u001b[37m\u001b[0m \u001b[1m2s\u001b[0m 8ms/step - d_loss: 0.6182 - g_loss: 0.9697\n",
      "Epoch 23/200\n",
      "\u001b[1m213/213\u001b[0m \u001b[32m━━━━━━━━━━━━━━━━━━━━\u001b[0m\u001b[37m\u001b[0m \u001b[1m2s\u001b[0m 8ms/step - d_loss: 0.6209 - g_loss: 0.9472\n",
      "Epoch 24/200\n",
      "\u001b[1m213/213\u001b[0m \u001b[32m━━━━━━━━━━━━━━━━━━━━\u001b[0m\u001b[37m\u001b[0m \u001b[1m2s\u001b[0m 8ms/step - d_loss: 0.6221 - g_loss: 0.9413\n",
      "Epoch 25/200\n",
      "\u001b[1m213/213\u001b[0m \u001b[32m━━━━━━━━━━━━━━━━━━━━\u001b[0m\u001b[37m\u001b[0m \u001b[1m2s\u001b[0m 8ms/step - d_loss: 0.6224 - g_loss: 0.9448\n",
      "Epoch 26/200\n",
      "\u001b[1m213/213\u001b[0m \u001b[32m━━━━━━━━━━━━━━━━━━━━\u001b[0m\u001b[37m\u001b[0m \u001b[1m2s\u001b[0m 8ms/step - d_loss: 0.6208 - g_loss: 0.9200\n",
      "Epoch 27/200\n",
      "\u001b[1m213/213\u001b[0m \u001b[32m━━━━━━━━━━━━━━━━━━━━\u001b[0m\u001b[37m\u001b[0m \u001b[1m2s\u001b[0m 8ms/step - d_loss: 0.6233 - g_loss: 0.9395\n",
      "Epoch 28/200\n",
      "\u001b[1m213/213\u001b[0m \u001b[32m━━━━━━━━━━━━━━━━━━━━\u001b[0m\u001b[37m\u001b[0m \u001b[1m2s\u001b[0m 8ms/step - d_loss: 0.6263 - g_loss: 0.9154\n",
      "Epoch 29/200\n",
      "\u001b[1m213/213\u001b[0m \u001b[32m━━━━━━━━━━━━━━━━━━━━\u001b[0m\u001b[37m\u001b[0m \u001b[1m2s\u001b[0m 8ms/step - d_loss: 0.6347 - g_loss: 0.9159\n",
      "Epoch 30/200\n",
      "\u001b[1m213/213\u001b[0m \u001b[32m━━━━━━━━━━━━━━━━━━━━\u001b[0m\u001b[37m\u001b[0m \u001b[1m2s\u001b[0m 8ms/step - d_loss: 0.6356 - g_loss: 0.9025\n",
      "Epoch 31/200\n",
      "\u001b[1m213/213\u001b[0m \u001b[32m━━━━━━━━━━━━━━━━━━━━\u001b[0m\u001b[37m\u001b[0m \u001b[1m2s\u001b[0m 8ms/step - d_loss: 0.6380 - g_loss: 0.8926\n",
      "Epoch 32/200\n",
      "\u001b[1m213/213\u001b[0m \u001b[32m━━━━━━━━━━━━━━━━━━━━\u001b[0m\u001b[37m\u001b[0m \u001b[1m2s\u001b[0m 8ms/step - d_loss: 0.6492 - g_loss: 0.8927\n",
      "Epoch 33/200\n",
      "\u001b[1m213/213\u001b[0m \u001b[32m━━━━━━━━━━━━━━━━━━━━\u001b[0m\u001b[37m\u001b[0m \u001b[1m2s\u001b[0m 8ms/step - d_loss: 0.6494 - g_loss: 0.8695\n",
      "Epoch 34/200\n",
      "\u001b[1m213/213\u001b[0m \u001b[32m━━━━━━━━━━━━━━━━━━━━\u001b[0m\u001b[37m\u001b[0m \u001b[1m2s\u001b[0m 8ms/step - d_loss: 0.6461 - g_loss: 0.8661\n",
      "Epoch 35/200\n",
      "\u001b[1m213/213\u001b[0m \u001b[32m━━━━━━━━━━━━━━━━━━━━\u001b[0m\u001b[37m\u001b[0m \u001b[1m2s\u001b[0m 8ms/step - d_loss: 0.6505 - g_loss: 0.8616\n",
      "Epoch 36/200\n",
      "\u001b[1m213/213\u001b[0m \u001b[32m━━━━━━━━━━━━━━━━━━━━\u001b[0m\u001b[37m\u001b[0m \u001b[1m2s\u001b[0m 8ms/step - d_loss: 0.6505 - g_loss: 0.8694\n",
      "Epoch 37/200\n",
      "\u001b[1m213/213\u001b[0m \u001b[32m━━━━━━━━━━━━━━━━━━━━\u001b[0m\u001b[37m\u001b[0m \u001b[1m2s\u001b[0m 8ms/step - d_loss: 0.6484 - g_loss: 0.8479\n",
      "Epoch 38/200\n",
      "\u001b[1m213/213\u001b[0m \u001b[32m━━━━━━━━━━━━━━━━━━━━\u001b[0m\u001b[37m\u001b[0m \u001b[1m2s\u001b[0m 8ms/step - d_loss: 0.6586 - g_loss: 0.8528\n",
      "Epoch 39/200\n",
      "\u001b[1m213/213\u001b[0m \u001b[32m━━━━━━━━━━━━━━━━━━━━\u001b[0m\u001b[37m\u001b[0m \u001b[1m2s\u001b[0m 8ms/step - d_loss: 0.6540 - g_loss: 0.8334\n",
      "Epoch 40/200\n",
      "\u001b[1m213/213\u001b[0m \u001b[32m━━━━━━━━━━━━━━━━━━━━\u001b[0m\u001b[37m\u001b[0m \u001b[1m2s\u001b[0m 8ms/step - d_loss: 0.6623 - g_loss: 0.8399\n",
      "Epoch 41/200\n",
      "\u001b[1m213/213\u001b[0m \u001b[32m━━━━━━━━━━━━━━━━━━━━\u001b[0m\u001b[37m\u001b[0m \u001b[1m2s\u001b[0m 8ms/step - d_loss: 0.6575 - g_loss: 0.8377\n",
      "Epoch 42/200\n",
      "\u001b[1m213/213\u001b[0m \u001b[32m━━━━━━━━━━━━━━━━━━━━\u001b[0m\u001b[37m\u001b[0m \u001b[1m2s\u001b[0m 8ms/step - d_loss: 0.6623 - g_loss: 0.8313\n",
      "Epoch 43/200\n",
      "\u001b[1m213/213\u001b[0m \u001b[32m━━━━━━━━━━━━━━━━━━━━\u001b[0m\u001b[37m\u001b[0m \u001b[1m2s\u001b[0m 8ms/step - d_loss: 0.6689 - g_loss: 0.8199\n",
      "Epoch 44/200\n",
      "\u001b[1m213/213\u001b[0m \u001b[32m━━━━━━━━━━━━━━━━━━━━\u001b[0m\u001b[37m\u001b[0m \u001b[1m2s\u001b[0m 8ms/step - d_loss: 0.6668 - g_loss: 0.8156\n",
      "Epoch 45/200\n",
      "\u001b[1m213/213\u001b[0m \u001b[32m━━━━━━━━━━━━━━━━━━━━\u001b[0m\u001b[37m\u001b[0m \u001b[1m2s\u001b[0m 8ms/step - d_loss: 0.6624 - g_loss: 0.8209\n",
      "Epoch 46/200\n",
      "\u001b[1m213/213\u001b[0m \u001b[32m━━━━━━━━━━━━━━━━━━━━\u001b[0m\u001b[37m\u001b[0m \u001b[1m2s\u001b[0m 8ms/step - d_loss: 0.6577 - g_loss: 0.8096\n",
      "Epoch 47/200\n",
      "\u001b[1m213/213\u001b[0m \u001b[32m━━━━━━━━━━━━━━━━━━━━\u001b[0m\u001b[37m\u001b[0m \u001b[1m2s\u001b[0m 8ms/step - d_loss: 0.6553 - g_loss: 0.8361\n",
      "Epoch 48/200\n",
      "\u001b[1m213/213\u001b[0m \u001b[32m━━━━━━━━━━━━━━━━━━━━\u001b[0m\u001b[37m\u001b[0m \u001b[1m2s\u001b[0m 8ms/step - d_loss: 0.6644 - g_loss: 0.8269\n",
      "Epoch 49/200\n",
      "\u001b[1m213/213\u001b[0m \u001b[32m━━━━━━━━━━━━━━━━━━━━\u001b[0m\u001b[37m\u001b[0m \u001b[1m2s\u001b[0m 8ms/step - d_loss: 0.6601 - g_loss: 0.8185\n",
      "Epoch 50/200\n",
      "\u001b[1m213/213\u001b[0m \u001b[32m━━━━━━━━━━━━━━━━━━━━\u001b[0m\u001b[37m\u001b[0m \u001b[1m2s\u001b[0m 8ms/step - d_loss: 0.6582 - g_loss: 0.8061\n",
      "Epoch 51/200\n",
      "\u001b[1m213/213\u001b[0m \u001b[32m━━━━━━━━━━━━━━━━━━━━\u001b[0m\u001b[37m\u001b[0m \u001b[1m2s\u001b[0m 8ms/step - d_loss: 0.6641 - g_loss: 0.8043\n",
      "Epoch 52/200\n",
      "\u001b[1m213/213\u001b[0m \u001b[32m━━━━━━━━━━━━━━━━━━━━\u001b[0m\u001b[37m\u001b[0m \u001b[1m2s\u001b[0m 8ms/step - d_loss: 0.6633 - g_loss: 0.8111\n",
      "Epoch 53/200\n",
      "\u001b[1m213/213\u001b[0m \u001b[32m━━━━━━━━━━━━━━━━━━━━\u001b[0m\u001b[37m\u001b[0m \u001b[1m2s\u001b[0m 8ms/step - d_loss: 0.6636 - g_loss: 0.8146\n",
      "Epoch 54/200\n",
      "\u001b[1m213/213\u001b[0m \u001b[32m━━━━━━━━━━━━━━━━━━━━\u001b[0m\u001b[37m\u001b[0m \u001b[1m2s\u001b[0m 8ms/step - d_loss: 0.6653 - g_loss: 0.7990\n",
      "Epoch 55/200\n",
      "\u001b[1m213/213\u001b[0m \u001b[32m━━━━━━━━━━━━━━━━━━━━\u001b[0m\u001b[37m\u001b[0m \u001b[1m2s\u001b[0m 8ms/step - d_loss: 0.6672 - g_loss: 0.7986\n",
      "Epoch 56/200\n",
      "\u001b[1m213/213\u001b[0m \u001b[32m━━━━━━━━━━━━━━━━━━━━\u001b[0m\u001b[37m\u001b[0m \u001b[1m2s\u001b[0m 8ms/step - d_loss: 0.6672 - g_loss: 0.7991\n",
      "Epoch 57/200\n",
      "\u001b[1m213/213\u001b[0m \u001b[32m━━━━━━━━━━━━━━━━━━━━\u001b[0m\u001b[37m\u001b[0m \u001b[1m2s\u001b[0m 8ms/step - d_loss: 0.6716 - g_loss: 0.7929\n",
      "Epoch 58/200\n",
      "\u001b[1m213/213\u001b[0m \u001b[32m━━━━━━━━━━━━━━━━━━━━\u001b[0m\u001b[37m\u001b[0m \u001b[1m2s\u001b[0m 8ms/step - d_loss: 0.6707 - g_loss: 0.7912\n",
      "Epoch 59/200\n",
      "\u001b[1m213/213\u001b[0m \u001b[32m━━━━━━━━━━━━━━━━━━━━\u001b[0m\u001b[37m\u001b[0m \u001b[1m2s\u001b[0m 8ms/step - d_loss: 0.6685 - g_loss: 0.7875\n",
      "Epoch 60/200\n",
      "\u001b[1m213/213\u001b[0m \u001b[32m━━━━━━━━━━━━━━━━━━━━\u001b[0m\u001b[37m\u001b[0m \u001b[1m2s\u001b[0m 8ms/step - d_loss: 0.6732 - g_loss: 0.7978\n",
      "Epoch 61/200\n",
      "\u001b[1m213/213\u001b[0m \u001b[32m━━━━━━━━━━━━━━━━━━━━\u001b[0m\u001b[37m\u001b[0m \u001b[1m2s\u001b[0m 8ms/step - d_loss: 0.6752 - g_loss: 0.7944\n",
      "Epoch 62/200\n",
      "\u001b[1m213/213\u001b[0m \u001b[32m━━━━━━━━━━━━━━━━━━━━\u001b[0m\u001b[37m\u001b[0m \u001b[1m2s\u001b[0m 8ms/step - d_loss: 0.6711 - g_loss: 0.7901\n",
      "Epoch 63/200\n",
      "\u001b[1m213/213\u001b[0m \u001b[32m━━━━━━━━━━━━━━━━━━━━\u001b[0m\u001b[37m\u001b[0m \u001b[1m2s\u001b[0m 8ms/step - d_loss: 0.6688 - g_loss: 0.7848\n",
      "Epoch 64/200\n",
      "\u001b[1m213/213\u001b[0m \u001b[32m━━━━━━━━━━━━━━━━━━━━\u001b[0m\u001b[37m\u001b[0m \u001b[1m2s\u001b[0m 8ms/step - d_loss: 0.6701 - g_loss: 0.7864\n",
      "Epoch 65/200\n",
      "\u001b[1m213/213\u001b[0m \u001b[32m━━━━━━━━━━━━━━━━━━━━\u001b[0m\u001b[37m\u001b[0m \u001b[1m2s\u001b[0m 8ms/step - d_loss: 0.6687 - g_loss: 0.7795\n",
      "Epoch 66/200\n",
      "\u001b[1m213/213\u001b[0m \u001b[32m━━━━━━━━━━━━━━━━━━━━\u001b[0m\u001b[37m\u001b[0m \u001b[1m2s\u001b[0m 8ms/step - d_loss: 0.6707 - g_loss: 0.7727\n",
      "Epoch 67/200\n",
      "\u001b[1m213/213\u001b[0m \u001b[32m━━━━━━━━━━━━━━━━━━━━\u001b[0m\u001b[37m\u001b[0m \u001b[1m2s\u001b[0m 8ms/step - d_loss: 0.6711 - g_loss: 0.7751\n",
      "Epoch 68/200\n",
      "\u001b[1m213/213\u001b[0m \u001b[32m━━━━━━━━━━━━━━━━━━━━\u001b[0m\u001b[37m\u001b[0m \u001b[1m2s\u001b[0m 8ms/step - d_loss: 0.6686 - g_loss: 0.7837\n",
      "Epoch 69/200\n",
      "\u001b[1m213/213\u001b[0m \u001b[32m━━━━━━━━━━━━━━━━━━━━\u001b[0m\u001b[37m\u001b[0m \u001b[1m2s\u001b[0m 8ms/step - d_loss: 0.6660 - g_loss: 0.7739\n",
      "Epoch 70/200\n",
      "\u001b[1m213/213\u001b[0m \u001b[32m━━━━━━━━━━━━━━━━━━━━\u001b[0m\u001b[37m\u001b[0m \u001b[1m2s\u001b[0m 8ms/step - d_loss: 0.6676 - g_loss: 0.7806\n",
      "Epoch 71/200\n",
      "\u001b[1m213/213\u001b[0m \u001b[32m━━━━━━━━━━━━━━━━━━━━\u001b[0m\u001b[37m\u001b[0m \u001b[1m2s\u001b[0m 8ms/step - d_loss: 0.6683 - g_loss: 0.7814\n",
      "Epoch 72/200\n",
      "\u001b[1m213/213\u001b[0m \u001b[32m━━━━━━━━━━━━━━━━━━━━\u001b[0m\u001b[37m\u001b[0m \u001b[1m2s\u001b[0m 8ms/step - d_loss: 0.6640 - g_loss: 0.7839\n",
      "Epoch 73/200\n",
      "\u001b[1m213/213\u001b[0m \u001b[32m━━━━━━━━━━━━━━━━━━━━\u001b[0m\u001b[37m\u001b[0m \u001b[1m2s\u001b[0m 8ms/step - d_loss: 0.6729 - g_loss: 0.7795\n",
      "Epoch 74/200\n",
      "\u001b[1m213/213\u001b[0m \u001b[32m━━━━━━━━━━━━━━━━━━━━\u001b[0m\u001b[37m\u001b[0m \u001b[1m2s\u001b[0m 8ms/step - d_loss: 0.6711 - g_loss: 0.7800\n",
      "Epoch 75/200\n",
      "\u001b[1m213/213\u001b[0m \u001b[32m━━━━━━━━━━━━━━━━━━━━\u001b[0m\u001b[37m\u001b[0m \u001b[1m2s\u001b[0m 8ms/step - d_loss: 0.6714 - g_loss: 0.7872\n",
      "Epoch 76/200\n",
      "\u001b[1m213/213\u001b[0m \u001b[32m━━━━━━━━━━━━━━━━━━━━\u001b[0m\u001b[37m\u001b[0m \u001b[1m2s\u001b[0m 8ms/step - d_loss: 0.6719 - g_loss: 0.7815\n",
      "Epoch 77/200\n",
      "\u001b[1m213/213\u001b[0m \u001b[32m━━━━━━━━━━━━━━━━━━━━\u001b[0m\u001b[37m\u001b[0m \u001b[1m2s\u001b[0m 8ms/step - d_loss: 0.6686 - g_loss: 0.7755\n",
      "Epoch 78/200\n",
      "\u001b[1m213/213\u001b[0m \u001b[32m━━━━━━━━━━━━━━━━━━━━\u001b[0m\u001b[37m\u001b[0m \u001b[1m2s\u001b[0m 8ms/step - d_loss: 0.6631 - g_loss: 0.7789\n",
      "Epoch 79/200\n",
      "\u001b[1m213/213\u001b[0m \u001b[32m━━━━━━━━━━━━━━━━━━━━\u001b[0m\u001b[37m\u001b[0m \u001b[1m2s\u001b[0m 8ms/step - d_loss: 0.6687 - g_loss: 0.7731\n",
      "Epoch 80/200\n",
      "\u001b[1m213/213\u001b[0m \u001b[32m━━━━━━━━━━━━━━━━━━━━\u001b[0m\u001b[37m\u001b[0m \u001b[1m2s\u001b[0m 8ms/step - d_loss: 0.6661 - g_loss: 0.7716\n",
      "Epoch 81/200\n",
      "\u001b[1m213/213\u001b[0m \u001b[32m━━━━━━━━━━━━━━━━━━━━\u001b[0m\u001b[37m\u001b[0m \u001b[1m2s\u001b[0m 8ms/step - d_loss: 0.6678 - g_loss: 0.7694\n",
      "Epoch 82/200\n",
      "\u001b[1m213/213\u001b[0m \u001b[32m━━━━━━━━━━━━━━━━━━━━\u001b[0m\u001b[37m\u001b[0m \u001b[1m2s\u001b[0m 8ms/step - d_loss: 0.6706 - g_loss: 0.7759\n",
      "Epoch 83/200\n",
      "\u001b[1m213/213\u001b[0m \u001b[32m━━━━━━━━━━━━━━━━━━━━\u001b[0m\u001b[37m\u001b[0m \u001b[1m2s\u001b[0m 8ms/step - d_loss: 0.6689 - g_loss: 0.7733\n",
      "Epoch 84/200\n",
      "\u001b[1m213/213\u001b[0m \u001b[32m━━━━━━━━━━━━━━━━━━━━\u001b[0m\u001b[37m\u001b[0m \u001b[1m2s\u001b[0m 8ms/step - d_loss: 0.6691 - g_loss: 0.7771\n",
      "Epoch 85/200\n",
      "\u001b[1m213/213\u001b[0m \u001b[32m━━━━━━━━━━━━━━━━━━━━\u001b[0m\u001b[37m\u001b[0m \u001b[1m2s\u001b[0m 8ms/step - d_loss: 0.6688 - g_loss: 0.7704\n",
      "Epoch 86/200\n",
      "\u001b[1m213/213\u001b[0m \u001b[32m━━━━━━━━━━━━━━━━━━━━\u001b[0m\u001b[37m\u001b[0m \u001b[1m2s\u001b[0m 8ms/step - d_loss: 0.6678 - g_loss: 0.7824\n",
      "Epoch 87/200\n",
      "\u001b[1m213/213\u001b[0m \u001b[32m━━━━━━━━━━━━━━━━━━━━\u001b[0m\u001b[37m\u001b[0m \u001b[1m2s\u001b[0m 8ms/step - d_loss: 0.6699 - g_loss: 0.7834\n",
      "Epoch 88/200\n",
      "\u001b[1m213/213\u001b[0m \u001b[32m━━━━━━━━━━━━━━━━━━━━\u001b[0m\u001b[37m\u001b[0m \u001b[1m2s\u001b[0m 8ms/step - d_loss: 0.6665 - g_loss: 0.7720\n",
      "Epoch 89/200\n",
      "\u001b[1m213/213\u001b[0m \u001b[32m━━━━━━━━━━━━━━━━━━━━\u001b[0m\u001b[37m\u001b[0m \u001b[1m2s\u001b[0m 8ms/step - d_loss: 0.6696 - g_loss: 0.7764\n",
      "Epoch 90/200\n",
      "\u001b[1m213/213\u001b[0m \u001b[32m━━━━━━━━━━━━━━━━━━━━\u001b[0m\u001b[37m\u001b[0m \u001b[1m2s\u001b[0m 8ms/step - d_loss: 0.6662 - g_loss: 0.7868\n",
      "Epoch 91/200\n",
      "\u001b[1m213/213\u001b[0m \u001b[32m━━━━━━━━━━━━━━━━━━━━\u001b[0m\u001b[37m\u001b[0m \u001b[1m2s\u001b[0m 8ms/step - d_loss: 0.6651 - g_loss: 0.7740\n",
      "Epoch 92/200\n",
      "\u001b[1m213/213\u001b[0m \u001b[32m━━━━━━━━━━━━━━━━━━━━\u001b[0m\u001b[37m\u001b[0m \u001b[1m2s\u001b[0m 8ms/step - d_loss: 0.6664 - g_loss: 0.7728\n",
      "Epoch 93/200\n",
      "\u001b[1m213/213\u001b[0m \u001b[32m━━━━━━━━━━━━━━━━━━━━\u001b[0m\u001b[37m\u001b[0m \u001b[1m2s\u001b[0m 8ms/step - d_loss: 0.6663 - g_loss: 0.7806\n",
      "Epoch 94/200\n",
      "\u001b[1m213/213\u001b[0m \u001b[32m━━━━━━━━━━━━━━━━━━━━\u001b[0m\u001b[37m\u001b[0m \u001b[1m2s\u001b[0m 8ms/step - d_loss: 0.6633 - g_loss: 0.7758\n",
      "Epoch 95/200\n",
      "\u001b[1m213/213\u001b[0m \u001b[32m━━━━━━━━━━━━━━━━━━━━\u001b[0m\u001b[37m\u001b[0m \u001b[1m2s\u001b[0m 8ms/step - d_loss: 0.6686 - g_loss: 0.7725\n",
      "Epoch 96/200\n",
      "\u001b[1m213/213\u001b[0m \u001b[32m━━━━━━━━━━━━━━━━━━━━\u001b[0m\u001b[37m\u001b[0m \u001b[1m2s\u001b[0m 8ms/step - d_loss: 0.6680 - g_loss: 0.7820\n",
      "Epoch 97/200\n",
      "\u001b[1m213/213\u001b[0m \u001b[32m━━━━━━━━━━━━━━━━━━━━\u001b[0m\u001b[37m\u001b[0m \u001b[1m2s\u001b[0m 8ms/step - d_loss: 0.6648 - g_loss: 0.7828\n",
      "Epoch 98/200\n",
      "\u001b[1m213/213\u001b[0m \u001b[32m━━━━━━━━━━━━━━━━━━━━\u001b[0m\u001b[37m\u001b[0m \u001b[1m2s\u001b[0m 8ms/step - d_loss: 0.6701 - g_loss: 0.7774\n",
      "Epoch 99/200\n",
      "\u001b[1m213/213\u001b[0m \u001b[32m━━━━━━━━━━━━━━━━━━━━\u001b[0m\u001b[37m\u001b[0m \u001b[1m2s\u001b[0m 8ms/step - d_loss: 0.6668 - g_loss: 0.7743\n",
      "Epoch 100/200\n",
      "\u001b[1m213/213\u001b[0m \u001b[32m━━━━━━━━━━━━━━━━━━━━\u001b[0m\u001b[37m\u001b[0m \u001b[1m2s\u001b[0m 8ms/step - d_loss: 0.6651 - g_loss: 0.7829\n",
      "Epoch 101/200\n",
      "\u001b[1m213/213\u001b[0m \u001b[32m━━━━━━━━━━━━━━━━━━━━\u001b[0m\u001b[37m\u001b[0m \u001b[1m2s\u001b[0m 8ms/step - d_loss: 0.6612 - g_loss: 0.7805\n",
      "Epoch 102/200\n",
      "\u001b[1m213/213\u001b[0m \u001b[32m━━━━━━━━━━━━━━━━━━━━\u001b[0m\u001b[37m\u001b[0m \u001b[1m2s\u001b[0m 8ms/step - d_loss: 0.6641 - g_loss: 0.7714\n",
      "Epoch 103/200\n",
      "\u001b[1m213/213\u001b[0m \u001b[32m━━━━━━━━━━━━━━━━━━━━\u001b[0m\u001b[37m\u001b[0m \u001b[1m2s\u001b[0m 8ms/step - d_loss: 0.6642 - g_loss: 0.7722\n",
      "Epoch 104/200\n",
      "\u001b[1m213/213\u001b[0m \u001b[32m━━━━━━━━━━━━━━━━━━━━\u001b[0m\u001b[37m\u001b[0m \u001b[1m2s\u001b[0m 8ms/step - d_loss: 0.6639 - g_loss: 0.7721\n",
      "Epoch 105/200\n",
      "\u001b[1m213/213\u001b[0m \u001b[32m━━━━━━━━━━━━━━━━━━━━\u001b[0m\u001b[37m\u001b[0m \u001b[1m2s\u001b[0m 8ms/step - d_loss: 0.6654 - g_loss: 0.7708\n",
      "Epoch 106/200\n",
      "\u001b[1m213/213\u001b[0m \u001b[32m━━━━━━━━━━━━━━━━━━━━\u001b[0m\u001b[37m\u001b[0m \u001b[1m2s\u001b[0m 8ms/step - d_loss: 0.6603 - g_loss: 0.7821\n",
      "Epoch 107/200\n",
      "\u001b[1m213/213\u001b[0m \u001b[32m━━━━━━━━━━━━━━━━━━━━\u001b[0m\u001b[37m\u001b[0m \u001b[1m2s\u001b[0m 8ms/step - d_loss: 0.6619 - g_loss: 0.7732\n",
      "Epoch 108/200\n",
      "\u001b[1m213/213\u001b[0m \u001b[32m━━━━━━━━━━━━━━━━━━━━\u001b[0m\u001b[37m\u001b[0m \u001b[1m2s\u001b[0m 8ms/step - d_loss: 0.6616 - g_loss: 0.7789\n",
      "Epoch 109/200\n",
      "\u001b[1m213/213\u001b[0m \u001b[32m━━━━━━━━━━━━━━━━━━━━\u001b[0m\u001b[37m\u001b[0m \u001b[1m2s\u001b[0m 8ms/step - d_loss: 0.6575 - g_loss: 0.7823\n",
      "Epoch 110/200\n",
      "\u001b[1m213/213\u001b[0m \u001b[32m━━━━━━━━━━━━━━━━━━━━\u001b[0m\u001b[37m\u001b[0m \u001b[1m2s\u001b[0m 8ms/step - d_loss: 0.6568 - g_loss: 0.7904\n",
      "Epoch 111/200\n",
      "\u001b[1m213/213\u001b[0m \u001b[32m━━━━━━━━━━━━━━━━━━━━\u001b[0m\u001b[37m\u001b[0m \u001b[1m2s\u001b[0m 8ms/step - d_loss: 0.6571 - g_loss: 0.7825\n",
      "Epoch 112/200\n",
      "\u001b[1m213/213\u001b[0m \u001b[32m━━━━━━━━━━━━━━━━━━━━\u001b[0m\u001b[37m\u001b[0m \u001b[1m2s\u001b[0m 8ms/step - d_loss: 0.6587 - g_loss: 0.8107\n",
      "Epoch 113/200\n",
      "\u001b[1m213/213\u001b[0m \u001b[32m━━━━━━━━━━━━━━━━━━━━\u001b[0m\u001b[37m\u001b[0m \u001b[1m2s\u001b[0m 8ms/step - d_loss: 0.6615 - g_loss: 0.7813\n",
      "Epoch 114/200\n",
      "\u001b[1m213/213\u001b[0m \u001b[32m━━━━━━━━━━━━━━━━━━━━\u001b[0m\u001b[37m\u001b[0m \u001b[1m2s\u001b[0m 8ms/step - d_loss: 0.6597 - g_loss: 0.7760\n",
      "Epoch 115/200\n",
      "\u001b[1m213/213\u001b[0m \u001b[32m━━━━━━━━━━━━━━━━━━━━\u001b[0m\u001b[37m\u001b[0m \u001b[1m2s\u001b[0m 8ms/step - d_loss: 0.6613 - g_loss: 0.7844\n",
      "Epoch 116/200\n",
      "\u001b[1m213/213\u001b[0m \u001b[32m━━━━━━━━━━━━━━━━━━━━\u001b[0m\u001b[37m\u001b[0m \u001b[1m2s\u001b[0m 9ms/step - d_loss: 0.6602 - g_loss: 0.7849\n",
      "Epoch 117/200\n",
      "\u001b[1m213/213\u001b[0m \u001b[32m━━━━━━━━━━━━━━━━━━━━\u001b[0m\u001b[37m\u001b[0m \u001b[1m2s\u001b[0m 8ms/step - d_loss: 0.6618 - g_loss: 0.7771\n",
      "Epoch 118/200\n",
      "\u001b[1m213/213\u001b[0m \u001b[32m━━━━━━━━━━━━━━━━━━━━\u001b[0m\u001b[37m\u001b[0m \u001b[1m2s\u001b[0m 8ms/step - d_loss: 0.6570 - g_loss: 0.7791\n",
      "Epoch 119/200\n",
      "\u001b[1m213/213\u001b[0m \u001b[32m━━━━━━━━━━━━━━━━━━━━\u001b[0m\u001b[37m\u001b[0m \u001b[1m2s\u001b[0m 8ms/step - d_loss: 0.6591 - g_loss: 0.7790\n",
      "Epoch 120/200\n",
      "\u001b[1m213/213\u001b[0m \u001b[32m━━━━━━━━━━━━━━━━━━━━\u001b[0m\u001b[37m\u001b[0m \u001b[1m2s\u001b[0m 8ms/step - d_loss: 0.6605 - g_loss: 0.7884\n",
      "Epoch 121/200\n",
      "\u001b[1m213/213\u001b[0m \u001b[32m━━━━━━━━━━━━━━━━━━━━\u001b[0m\u001b[37m\u001b[0m \u001b[1m2s\u001b[0m 8ms/step - d_loss: 0.6622 - g_loss: 0.7936\n",
      "Epoch 122/200\n",
      "\u001b[1m213/213\u001b[0m \u001b[32m━━━━━━━━━━━━━━━━━━━━\u001b[0m\u001b[37m\u001b[0m \u001b[1m2s\u001b[0m 8ms/step - d_loss: 0.6621 - g_loss: 0.7792\n",
      "Epoch 123/200\n",
      "\u001b[1m213/213\u001b[0m \u001b[32m━━━━━━━━━━━━━━━━━━━━\u001b[0m\u001b[37m\u001b[0m \u001b[1m2s\u001b[0m 8ms/step - d_loss: 0.6600 - g_loss: 0.7882\n",
      "Epoch 124/200\n",
      "\u001b[1m213/213\u001b[0m \u001b[32m━━━━━━━━━━━━━━━━━━━━\u001b[0m\u001b[37m\u001b[0m \u001b[1m2s\u001b[0m 8ms/step - d_loss: 0.6614 - g_loss: 0.7909\n",
      "Epoch 125/200\n",
      "\u001b[1m213/213\u001b[0m \u001b[32m━━━━━━━━━━━━━━━━━━━━\u001b[0m\u001b[37m\u001b[0m \u001b[1m2s\u001b[0m 8ms/step - d_loss: 0.6565 - g_loss: 0.7810\n",
      "Epoch 126/200\n",
      "\u001b[1m213/213\u001b[0m \u001b[32m━━━━━━━━━━━━━━━━━━━━\u001b[0m\u001b[37m\u001b[0m \u001b[1m2s\u001b[0m 8ms/step - d_loss: 0.6528 - g_loss: 0.7909\n",
      "Epoch 127/200\n",
      "\u001b[1m213/213\u001b[0m \u001b[32m━━━━━━━━━━━━━━━━━━━━\u001b[0m\u001b[37m\u001b[0m \u001b[1m2s\u001b[0m 8ms/step - d_loss: 0.6551 - g_loss: 0.7919\n",
      "Epoch 128/200\n",
      "\u001b[1m213/213\u001b[0m \u001b[32m━━━━━━━━━━━━━━━━━━━━\u001b[0m\u001b[37m\u001b[0m \u001b[1m2s\u001b[0m 8ms/step - d_loss: 0.6556 - g_loss: 0.7939\n",
      "Epoch 129/200\n",
      "\u001b[1m213/213\u001b[0m \u001b[32m━━━━━━━━━━━━━━━━━━━━\u001b[0m\u001b[37m\u001b[0m \u001b[1m2s\u001b[0m 8ms/step - d_loss: 0.6574 - g_loss: 0.7933\n",
      "Epoch 130/200\n",
      "\u001b[1m213/213\u001b[0m \u001b[32m━━━━━━━━━━━━━━━━━━━━\u001b[0m\u001b[37m\u001b[0m \u001b[1m2s\u001b[0m 8ms/step - d_loss: 0.6629 - g_loss: 0.7924\n",
      "Epoch 131/200\n",
      "\u001b[1m213/213\u001b[0m \u001b[32m━━━━━━━━━━━━━━━━━━━━\u001b[0m\u001b[37m\u001b[0m \u001b[1m2s\u001b[0m 8ms/step - d_loss: 0.6569 - g_loss: 0.7895\n",
      "Epoch 132/200\n",
      "\u001b[1m213/213\u001b[0m \u001b[32m━━━━━━━━━━━━━━━━━━━━\u001b[0m\u001b[37m\u001b[0m \u001b[1m2s\u001b[0m 8ms/step - d_loss: 0.6594 - g_loss: 0.7832\n",
      "Epoch 133/200\n",
      "\u001b[1m213/213\u001b[0m \u001b[32m━━━━━━━━━━━━━━━━━━━━\u001b[0m\u001b[37m\u001b[0m \u001b[1m2s\u001b[0m 8ms/step - d_loss: 0.6618 - g_loss: 0.7816\n",
      "Epoch 134/200\n",
      "\u001b[1m213/213\u001b[0m \u001b[32m━━━━━━━━━━━━━━━━━━━━\u001b[0m\u001b[37m\u001b[0m \u001b[1m2s\u001b[0m 8ms/step - d_loss: 0.6552 - g_loss: 0.7823\n",
      "Epoch 135/200\n",
      "\u001b[1m213/213\u001b[0m \u001b[32m━━━━━━━━━━━━━━━━━━━━\u001b[0m\u001b[37m\u001b[0m \u001b[1m2s\u001b[0m 8ms/step - d_loss: 0.6548 - g_loss: 0.7813\n",
      "Epoch 136/200\n",
      "\u001b[1m213/213\u001b[0m \u001b[32m━━━━━━━━━━━━━━━━━━━━\u001b[0m\u001b[37m\u001b[0m \u001b[1m2s\u001b[0m 8ms/step - d_loss: 0.6550 - g_loss: 0.7970\n",
      "Epoch 137/200\n",
      "\u001b[1m213/213\u001b[0m \u001b[32m━━━━━━━━━━━━━━━━━━━━\u001b[0m\u001b[37m\u001b[0m \u001b[1m2s\u001b[0m 8ms/step - d_loss: 0.6554 - g_loss: 0.7895\n",
      "Epoch 138/200\n",
      "\u001b[1m213/213\u001b[0m \u001b[32m━━━━━━━━━━━━━━━━━━━━\u001b[0m\u001b[37m\u001b[0m \u001b[1m2s\u001b[0m 8ms/step - d_loss: 0.6564 - g_loss: 0.7970\n",
      "Epoch 139/200\n",
      "\u001b[1m213/213\u001b[0m \u001b[32m━━━━━━━━━━━━━━━━━━━━\u001b[0m\u001b[37m\u001b[0m \u001b[1m2s\u001b[0m 8ms/step - d_loss: 0.6548 - g_loss: 0.7955\n",
      "Epoch 140/200\n",
      "\u001b[1m213/213\u001b[0m \u001b[32m━━━━━━━━━━━━━━━━━━━━\u001b[0m\u001b[37m\u001b[0m \u001b[1m2s\u001b[0m 8ms/step - d_loss: 0.6521 - g_loss: 0.7847\n",
      "Epoch 141/200\n",
      "\u001b[1m213/213\u001b[0m \u001b[32m━━━━━━━━━━━━━━━━━━━━\u001b[0m\u001b[37m\u001b[0m \u001b[1m2s\u001b[0m 8ms/step - d_loss: 0.6551 - g_loss: 0.8051\n",
      "Epoch 142/200\n",
      "\u001b[1m213/213\u001b[0m \u001b[32m━━━━━━━━━━━━━━━━━━━━\u001b[0m\u001b[37m\u001b[0m \u001b[1m2s\u001b[0m 8ms/step - d_loss: 0.6539 - g_loss: 0.7907\n",
      "Epoch 143/200\n",
      "\u001b[1m213/213\u001b[0m \u001b[32m━━━━━━━━━━━━━━━━━━━━\u001b[0m\u001b[37m\u001b[0m \u001b[1m2s\u001b[0m 8ms/step - d_loss: 0.6545 - g_loss: 0.7827\n",
      "Epoch 144/200\n",
      "\u001b[1m213/213\u001b[0m \u001b[32m━━━━━━━━━━━━━━━━━━━━\u001b[0m\u001b[37m\u001b[0m \u001b[1m2s\u001b[0m 8ms/step - d_loss: 0.6509 - g_loss: 0.7960\n",
      "Epoch 145/200\n",
      "\u001b[1m213/213\u001b[0m \u001b[32m━━━━━━━━━━━━━━━━━━━━\u001b[0m\u001b[37m\u001b[0m \u001b[1m2s\u001b[0m 8ms/step - d_loss: 0.6488 - g_loss: 0.8021\n",
      "Epoch 146/200\n",
      "\u001b[1m213/213\u001b[0m \u001b[32m━━━━━━━━━━━━━━━━━━━━\u001b[0m\u001b[37m\u001b[0m \u001b[1m2s\u001b[0m 8ms/step - d_loss: 0.6540 - g_loss: 0.7993\n",
      "Epoch 147/200\n",
      "\u001b[1m213/213\u001b[0m \u001b[32m━━━━━━━━━━━━━━━━━━━━\u001b[0m\u001b[37m\u001b[0m \u001b[1m2s\u001b[0m 8ms/step - d_loss: 0.6522 - g_loss: 0.7993\n",
      "Epoch 148/200\n",
      "\u001b[1m213/213\u001b[0m \u001b[32m━━━━━━━━━━━━━━━━━━━━\u001b[0m\u001b[37m\u001b[0m \u001b[1m2s\u001b[0m 8ms/step - d_loss: 0.6513 - g_loss: 0.7852\n",
      "Epoch 149/200\n",
      "\u001b[1m213/213\u001b[0m \u001b[32m━━━━━━━━━━━━━━━━━━━━\u001b[0m\u001b[37m\u001b[0m \u001b[1m2s\u001b[0m 8ms/step - d_loss: 0.6562 - g_loss: 0.7920\n",
      "Epoch 150/200\n",
      "\u001b[1m213/213\u001b[0m \u001b[32m━━━━━━━━━━━━━━━━━━━━\u001b[0m\u001b[37m\u001b[0m \u001b[1m2s\u001b[0m 8ms/step - d_loss: 0.6471 - g_loss: 0.8001\n",
      "Epoch 151/200\n",
      "\u001b[1m213/213\u001b[0m \u001b[32m━━━━━━━━━━━━━━━━━━━━\u001b[0m\u001b[37m\u001b[0m \u001b[1m2s\u001b[0m 8ms/step - d_loss: 0.6509 - g_loss: 0.7938\n",
      "Epoch 152/200\n",
      "\u001b[1m213/213\u001b[0m \u001b[32m━━━━━━━━━━━━━━━━━━━━\u001b[0m\u001b[37m\u001b[0m \u001b[1m2s\u001b[0m 8ms/step - d_loss: 0.6523 - g_loss: 0.8153\n",
      "Epoch 153/200\n",
      "\u001b[1m213/213\u001b[0m \u001b[32m━━━━━━━━━━━━━━━━━━━━\u001b[0m\u001b[37m\u001b[0m \u001b[1m2s\u001b[0m 8ms/step - d_loss: 0.6497 - g_loss: 0.7988\n",
      "Epoch 154/200\n",
      "\u001b[1m213/213\u001b[0m \u001b[32m━━━━━━━━━━━━━━━━━━━━\u001b[0m\u001b[37m\u001b[0m \u001b[1m2s\u001b[0m 8ms/step - d_loss: 0.6500 - g_loss: 0.7907\n",
      "Epoch 155/200\n",
      "\u001b[1m213/213\u001b[0m \u001b[32m━━━━━━━━━━━━━━━━━━━━\u001b[0m\u001b[37m\u001b[0m \u001b[1m2s\u001b[0m 8ms/step - d_loss: 0.6455 - g_loss: 0.8017\n",
      "Epoch 156/200\n",
      "\u001b[1m213/213\u001b[0m \u001b[32m━━━━━━━━━━━━━━━━━━━━\u001b[0m\u001b[37m\u001b[0m \u001b[1m2s\u001b[0m 8ms/step - d_loss: 0.6443 - g_loss: 0.7990\n",
      "Epoch 157/200\n",
      "\u001b[1m213/213\u001b[0m \u001b[32m━━━━━━━━━━━━━━━━━━━━\u001b[0m\u001b[37m\u001b[0m \u001b[1m2s\u001b[0m 8ms/step - d_loss: 0.6395 - g_loss: 0.8158\n",
      "Epoch 158/200\n",
      "\u001b[1m213/213\u001b[0m \u001b[32m━━━━━━━━━━━━━━━━━━━━\u001b[0m\u001b[37m\u001b[0m \u001b[1m2s\u001b[0m 8ms/step - d_loss: 0.6486 - g_loss: 0.8208\n",
      "Epoch 159/200\n",
      "\u001b[1m213/213\u001b[0m \u001b[32m━━━━━━━━━━━━━━━━━━━━\u001b[0m\u001b[37m\u001b[0m \u001b[1m2s\u001b[0m 8ms/step - d_loss: 0.6434 - g_loss: 0.8049\n",
      "Epoch 160/200\n",
      "\u001b[1m213/213\u001b[0m \u001b[32m━━━━━━━━━━━━━━━━━━━━\u001b[0m\u001b[37m\u001b[0m \u001b[1m2s\u001b[0m 8ms/step - d_loss: 0.6451 - g_loss: 0.8105\n",
      "Epoch 161/200\n",
      "\u001b[1m213/213\u001b[0m \u001b[32m━━━━━━━━━━━━━━━━━━━━\u001b[0m\u001b[37m\u001b[0m \u001b[1m2s\u001b[0m 8ms/step - d_loss: 0.6403 - g_loss: 0.8057\n",
      "Epoch 162/200\n",
      "\u001b[1m213/213\u001b[0m \u001b[32m━━━━━━━━━━━━━━━━━━━━\u001b[0m\u001b[37m\u001b[0m \u001b[1m2s\u001b[0m 8ms/step - d_loss: 0.6437 - g_loss: 0.8054\n",
      "Epoch 163/200\n",
      "\u001b[1m213/213\u001b[0m \u001b[32m━━━━━━━━━━━━━━━━━━━━\u001b[0m\u001b[37m\u001b[0m \u001b[1m2s\u001b[0m 8ms/step - d_loss: 0.6449 - g_loss: 0.8146\n",
      "Epoch 164/200\n",
      "\u001b[1m213/213\u001b[0m \u001b[32m━━━━━━━━━━━━━━━━━━━━\u001b[0m\u001b[37m\u001b[0m \u001b[1m2s\u001b[0m 8ms/step - d_loss: 0.6472 - g_loss: 0.8048\n",
      "Epoch 165/200\n",
      "\u001b[1m213/213\u001b[0m \u001b[32m━━━━━━━━━━━━━━━━━━━━\u001b[0m\u001b[37m\u001b[0m \u001b[1m2s\u001b[0m 8ms/step - d_loss: 0.6391 - g_loss: 0.8110\n",
      "Epoch 166/200\n",
      "\u001b[1m213/213\u001b[0m \u001b[32m━━━━━━━━━━━━━━━━━━━━\u001b[0m\u001b[37m\u001b[0m \u001b[1m2s\u001b[0m 8ms/step - d_loss: 0.6416 - g_loss: 0.8101\n",
      "Epoch 167/200\n",
      "\u001b[1m213/213\u001b[0m \u001b[32m━━━━━━━━━━━━━━━━━━━━\u001b[0m\u001b[37m\u001b[0m \u001b[1m2s\u001b[0m 8ms/step - d_loss: 0.6458 - g_loss: 0.8142\n",
      "Epoch 168/200\n",
      "\u001b[1m213/213\u001b[0m \u001b[32m━━━━━━━━━━━━━━━━━━━━\u001b[0m\u001b[37m\u001b[0m \u001b[1m2s\u001b[0m 8ms/step - d_loss: 0.6437 - g_loss: 0.8061\n",
      "Epoch 169/200\n",
      "\u001b[1m213/213\u001b[0m \u001b[32m━━━━━━━━━━━━━━━━━━━━\u001b[0m\u001b[37m\u001b[0m \u001b[1m2s\u001b[0m 8ms/step - d_loss: 0.6430 - g_loss: 0.8053\n",
      "Epoch 170/200\n",
      "\u001b[1m213/213\u001b[0m \u001b[32m━━━━━━━━━━━━━━━━━━━━\u001b[0m\u001b[37m\u001b[0m \u001b[1m2s\u001b[0m 8ms/step - d_loss: 0.6401 - g_loss: 0.8112\n",
      "Epoch 171/200\n",
      "\u001b[1m213/213\u001b[0m \u001b[32m━━━━━━━━━━━━━━━━━━━━\u001b[0m\u001b[37m\u001b[0m \u001b[1m2s\u001b[0m 8ms/step - d_loss: 0.6390 - g_loss: 0.8124\n",
      "Epoch 172/200\n",
      "\u001b[1m213/213\u001b[0m \u001b[32m━━━━━━━━━━━━━━━━━━━━\u001b[0m\u001b[37m\u001b[0m \u001b[1m2s\u001b[0m 8ms/step - d_loss: 0.6361 - g_loss: 0.8104\n",
      "Epoch 173/200\n",
      "\u001b[1m213/213\u001b[0m \u001b[32m━━━━━━━━━━━━━━━━━━━━\u001b[0m\u001b[37m\u001b[0m \u001b[1m2s\u001b[0m 8ms/step - d_loss: 0.6393 - g_loss: 0.8128\n",
      "Epoch 174/200\n",
      "\u001b[1m213/213\u001b[0m \u001b[32m━━━━━━━━━━━━━━━━━━━━\u001b[0m\u001b[37m\u001b[0m \u001b[1m2s\u001b[0m 8ms/step - d_loss: 0.6389 - g_loss: 0.8172\n",
      "Epoch 175/200\n",
      "\u001b[1m213/213\u001b[0m \u001b[32m━━━━━━━━━━━━━━━━━━━━\u001b[0m\u001b[37m\u001b[0m \u001b[1m2s\u001b[0m 8ms/step - d_loss: 0.6339 - g_loss: 0.8130\n",
      "Epoch 176/200\n",
      "\u001b[1m213/213\u001b[0m \u001b[32m━━━━━━━━━━━━━━━━━━━━\u001b[0m\u001b[37m\u001b[0m \u001b[1m2s\u001b[0m 8ms/step - d_loss: 0.6308 - g_loss: 0.8291\n",
      "Epoch 177/200\n",
      "\u001b[1m213/213\u001b[0m \u001b[32m━━━━━━━━━━━━━━━━━━━━\u001b[0m\u001b[37m\u001b[0m \u001b[1m2s\u001b[0m 8ms/step - d_loss: 0.6341 - g_loss: 0.8165\n",
      "Epoch 178/200\n",
      "\u001b[1m213/213\u001b[0m \u001b[32m━━━━━━━━━━━━━━━━━━━━\u001b[0m\u001b[37m\u001b[0m \u001b[1m2s\u001b[0m 8ms/step - d_loss: 0.6345 - g_loss: 0.8136\n",
      "Epoch 179/200\n",
      "\u001b[1m213/213\u001b[0m \u001b[32m━━━━━━━━━━━━━━━━━━━━\u001b[0m\u001b[37m\u001b[0m \u001b[1m2s\u001b[0m 8ms/step - d_loss: 0.6353 - g_loss: 0.8199\n",
      "Epoch 180/200\n",
      "\u001b[1m213/213\u001b[0m \u001b[32m━━━━━━━━━━━━━━━━━━━━\u001b[0m\u001b[37m\u001b[0m \u001b[1m2s\u001b[0m 8ms/step - d_loss: 0.6326 - g_loss: 0.8249\n",
      "Epoch 181/200\n",
      "\u001b[1m213/213\u001b[0m \u001b[32m━━━━━━━━━━━━━━━━━━━━\u001b[0m\u001b[37m\u001b[0m \u001b[1m2s\u001b[0m 8ms/step - d_loss: 0.6303 - g_loss: 0.8163\n",
      "Epoch 182/200\n",
      "\u001b[1m213/213\u001b[0m \u001b[32m━━━━━━━━━━━━━━━━━━━━\u001b[0m\u001b[37m\u001b[0m \u001b[1m2s\u001b[0m 8ms/step - d_loss: 0.6346 - g_loss: 0.8291\n",
      "Epoch 183/200\n",
      "\u001b[1m213/213\u001b[0m \u001b[32m━━━━━━━━━━━━━━━━━━━━\u001b[0m\u001b[37m\u001b[0m \u001b[1m2s\u001b[0m 8ms/step - d_loss: 0.6359 - g_loss: 0.8237\n",
      "Epoch 184/200\n",
      "\u001b[1m213/213\u001b[0m \u001b[32m━━━━━━━━━━━━━━━━━━━━\u001b[0m\u001b[37m\u001b[0m \u001b[1m2s\u001b[0m 8ms/step - d_loss: 0.6322 - g_loss: 0.8167\n",
      "Epoch 185/200\n",
      "\u001b[1m213/213\u001b[0m \u001b[32m━━━━━━━━━━━━━━━━━━━━\u001b[0m\u001b[37m\u001b[0m \u001b[1m2s\u001b[0m 9ms/step - d_loss: 0.6336 - g_loss: 0.8180\n",
      "Epoch 186/200\n",
      "\u001b[1m213/213\u001b[0m \u001b[32m━━━━━━━━━━━━━━━━━━━━\u001b[0m\u001b[37m\u001b[0m \u001b[1m2s\u001b[0m 8ms/step - d_loss: 0.6300 - g_loss: 0.8175\n",
      "Epoch 187/200\n",
      "\u001b[1m213/213\u001b[0m \u001b[32m━━━━━━━━━━━━━━━━━━━━\u001b[0m\u001b[37m\u001b[0m \u001b[1m2s\u001b[0m 8ms/step - d_loss: 0.6325 - g_loss: 0.8251\n",
      "Epoch 188/200\n",
      "\u001b[1m213/213\u001b[0m \u001b[32m━━━━━━━━━━━━━━━━━━━━\u001b[0m\u001b[37m\u001b[0m \u001b[1m2s\u001b[0m 8ms/step - d_loss: 0.6250 - g_loss: 0.8261\n",
      "Epoch 189/200\n",
      "\u001b[1m213/213\u001b[0m \u001b[32m━━━━━━━━━━━━━━━━━━━━\u001b[0m\u001b[37m\u001b[0m \u001b[1m2s\u001b[0m 8ms/step - d_loss: 0.6307 - g_loss: 0.8238\n",
      "Epoch 190/200\n",
      "\u001b[1m213/213\u001b[0m \u001b[32m━━━━━━━━━━━━━━━━━━━━\u001b[0m\u001b[37m\u001b[0m \u001b[1m2s\u001b[0m 8ms/step - d_loss: 0.6280 - g_loss: 0.8262\n",
      "Epoch 191/200\n",
      "\u001b[1m213/213\u001b[0m \u001b[32m━━━━━━━━━━━━━━━━━━━━\u001b[0m\u001b[37m\u001b[0m \u001b[1m2s\u001b[0m 8ms/step - d_loss: 0.6310 - g_loss: 0.8175\n",
      "Epoch 192/200\n",
      "\u001b[1m213/213\u001b[0m \u001b[32m━━━━━━━━━━━━━━━━━━━━\u001b[0m\u001b[37m\u001b[0m \u001b[1m2s\u001b[0m 8ms/step - d_loss: 0.6300 - g_loss: 0.8218\n",
      "Epoch 193/200\n",
      "\u001b[1m213/213\u001b[0m \u001b[32m━━━━━━━━━━━━━━━━━━━━\u001b[0m\u001b[37m\u001b[0m \u001b[1m2s\u001b[0m 8ms/step - d_loss: 0.6280 - g_loss: 0.8268\n",
      "Epoch 194/200\n",
      "\u001b[1m213/213\u001b[0m \u001b[32m━━━━━━━━━━━━━━━━━━━━\u001b[0m\u001b[37m\u001b[0m \u001b[1m2s\u001b[0m 8ms/step - d_loss: 0.6284 - g_loss: 0.8278\n",
      "Epoch 195/200\n",
      "\u001b[1m213/213\u001b[0m \u001b[32m━━━━━━━━━━━━━━━━━━━━\u001b[0m\u001b[37m\u001b[0m \u001b[1m2s\u001b[0m 8ms/step - d_loss: 0.6263 - g_loss: 0.8253\n",
      "Epoch 196/200\n",
      "\u001b[1m213/213\u001b[0m \u001b[32m━━━━━━━━━━━━━━━━━━━━\u001b[0m\u001b[37m\u001b[0m \u001b[1m2s\u001b[0m 8ms/step - d_loss: 0.6284 - g_loss: 0.8319\n",
      "Epoch 197/200\n",
      "\u001b[1m213/213\u001b[0m \u001b[32m━━━━━━━━━━━━━━━━━━━━\u001b[0m\u001b[37m\u001b[0m \u001b[1m2s\u001b[0m 8ms/step - d_loss: 0.6271 - g_loss: 0.8260\n",
      "Epoch 198/200\n",
      "\u001b[1m213/213\u001b[0m \u001b[32m━━━━━━━━━━━━━━━━━━━━\u001b[0m\u001b[37m\u001b[0m \u001b[1m2s\u001b[0m 8ms/step - d_loss: 0.6265 - g_loss: 0.8225\n",
      "Epoch 199/200\n",
      "\u001b[1m213/213\u001b[0m \u001b[32m━━━━━━━━━━━━━━━━━━━━\u001b[0m\u001b[37m\u001b[0m \u001b[1m2s\u001b[0m 8ms/step - d_loss: 0.6267 - g_loss: 0.8334\n",
      "Epoch 200/200\n",
      "\u001b[1m213/213\u001b[0m \u001b[32m━━━━━━━━━━━━━━━━━━━━\u001b[0m\u001b[37m\u001b[0m \u001b[1m2s\u001b[0m 8ms/step - d_loss: 0.6263 - g_loss: 0.8323\n"
     ]
    },
    {
     "data": {
      "text/plain": [
       "<keras.src.callbacks.history.History at 0x7b0d8c1e9660>"
      ]
     },
     "execution_count": 43,
     "metadata": {},
     "output_type": "execute_result"
    }
   ],
   "source": [
    "cond_gan = ConditionalGAN(\n",
    "    discriminator=discriminator, generator=generator, latent_dim=latent_dim\n",
    ")\n",
    "cond_gan.compile(\n",
    "    d_optimizer=keras.optimizers.Adam(learning_rate=0.0003),\n",
    "    g_optimizer=keras.optimizers.Adam(learning_rate=0.0003),\n",
    "    loss_fn=keras.losses.BinaryCrossentropy(from_logits=True),\n",
    ")\n",
    "\n",
    "# define early stopper\n",
    "early_stopping = keras.callbacks.EarlyStopping(\n",
    "    monitor='loss', patience=5, restore_best_weights=True)\n",
    "\n",
    "history = cond_gan.fit(dataset, epochs=200, callbacks=[early_stopping])\n"
   ]
  },
  {
   "cell_type": "markdown",
   "metadata": {
    "id": "yF1RnqxSkoxC"
   },
   "source": [
    "\n",
    "Generem un grafic per veure 10 imatges sintetiques de cada un dels labels:"
   ]
  },
  {
   "cell_type": "code",
   "execution_count": 71,
   "metadata": {
    "id": "A0ez1rmmj4aM"
   },
   "outputs": [],
   "source": [
    "# We first extract the trained generator from our Conditional GAN\n",
    "trained_gen = cond_gan.generator"
   ]
  },
  {
   "cell_type": "code",
   "execution_count": 75,
   "metadata": {
    "colab": {
     "base_uri": "https://localhost:8080/",
     "height": 607
    },
    "id": "E72Rs9pRi0Ma",
    "outputId": "b5e43d4c-0db3-4f94-fcc5-ab1409eea903"
   },
   "outputs": [
    {
     "name": "stdout",
     "output_type": "stream",
     "text": [
      "\u001b[1m1/1\u001b[0m \u001b[32m━━━━━━━━━━━━━━━━━━━━\u001b[0m\u001b[37m\u001b[0m \u001b[1m0s\u001b[0m 20ms/step\n",
      "\u001b[1m1/1\u001b[0m \u001b[32m━━━━━━━━━━━━━━━━━━━━\u001b[0m\u001b[37m\u001b[0m \u001b[1m0s\u001b[0m 22ms/step\n",
      "\u001b[1m1/1\u001b[0m \u001b[32m━━━━━━━━━━━━━━━━━━━━\u001b[0m\u001b[37m\u001b[0m \u001b[1m0s\u001b[0m 21ms/step\n",
      "\u001b[1m1/1\u001b[0m \u001b[32m━━━━━━━━━━━━━━━━━━━━\u001b[0m\u001b[37m\u001b[0m \u001b[1m0s\u001b[0m 20ms/step\n",
      "\u001b[1m1/1\u001b[0m \u001b[32m━━━━━━━━━━━━━━━━━━━━\u001b[0m\u001b[37m\u001b[0m \u001b[1m0s\u001b[0m 20ms/step\n",
      "\u001b[1m1/1\u001b[0m \u001b[32m━━━━━━━━━━━━━━━━━━━━\u001b[0m\u001b[37m\u001b[0m \u001b[1m0s\u001b[0m 27ms/step\n",
      "\u001b[1m1/1\u001b[0m \u001b[32m━━━━━━━━━━━━━━━━━━━━\u001b[0m\u001b[37m\u001b[0m \u001b[1m0s\u001b[0m 20ms/step\n",
      "\u001b[1m1/1\u001b[0m \u001b[32m━━━━━━━━━━━━━━━━━━━━\u001b[0m\u001b[37m\u001b[0m \u001b[1m0s\u001b[0m 21ms/step\n",
      "\u001b[1m1/1\u001b[0m \u001b[32m━━━━━━━━━━━━━━━━━━━━\u001b[0m\u001b[37m\u001b[0m \u001b[1m0s\u001b[0m 19ms/step\n",
      "\u001b[1m1/1\u001b[0m \u001b[32m━━━━━━━━━━━━━━━━━━━━\u001b[0m\u001b[37m\u001b[0m \u001b[1m0s\u001b[0m 19ms/step\n"
     ]
    },
    {
     "data": {
      "image/png": "[encoded data removed]",
      "text/plain": [
       "<Figure size 640x480 with 100 Axes>"
      ]
     },
     "metadata": {},
     "output_type": "display_data"
    }
   ],
   "source": [
    "# Number of images to generate per class\n",
    "num_images_per_class = 10\n",
    "\n",
    "# Iterate over each class\n",
    "for class_label in range(num_classes):\n",
    "    # Sample noise\n",
    "    noise = np.random.normal(0, 1, (num_images_per_class, latent_dim))\n",
    "\n",
    "    # Create one-hot encoded class labels\n",
    "    labels = to_categorical([class_label] * num_images_per_class, num_classes)\n",
    "\n",
    "    # Combine noise and labels\n",
    "    noise_and_labels = np.concatenate([noise, labels], axis=1)\n",
    "\n",
    "    # Generate images\n",
    "    fake_images = trained_gen.predict(noise_and_labels)\n",
    "\n",
    "    # Create figure\n",
    "    for i in range(num_images_per_class):\n",
    "        plt.subplot(num_classes, num_images_per_class, class_label * num_images_per_class + i + 1)\n",
    "        plt.imshow(fake_images[i].reshape(28, 28), cmap='gray')\n",
    "        plt.axis('off')\n",
    "\n",
    "plt.show()\n"
   ]
  },
  {
   "cell_type": "markdown",
   "metadata": {
    "id": "GR1tkz-_Eem_"
   },
   "source": [
    "## 5. Implementació de la classe model `ConditionalGAN`"
   ]
  },
  {
   "cell_type": "markdown",
   "metadata": {
    "id": "R3Dq_cMRBMe7"
   },
   "source": [
    "En base a la definició de la classe següent respon a les preguntes de sota:"
   ]
  },
  {
   "cell_type": "code",
   "execution_count": 77,
   "metadata": {
    "id": "NxTDqB-HEem_"
   },
   "outputs": [],
   "source": [
    "\n",
    "class ConditionalGAN(keras.Model):\n",
    "    def __init__(self, discriminator, generator, latent_dim):\n",
    "        super().__init__()\n",
    "        self.discriminator = discriminator\n",
    "        self.generator = generator\n",
    "        self.latent_dim = latent_dim\n",
    "        self.seed_generator = keras.random.SeedGenerator(1337)\n",
    "        self.gen_loss_tracker = keras.metrics.Mean(name=\"generator_loss\")\n",
    "        self.disc_loss_tracker = keras.metrics.Mean(name=\"discriminator_loss\")\n",
    "\n",
    "    @property\n",
    "    def metrics(self):\n",
    "        return [self.gen_loss_tracker, self.disc_loss_tracker]\n",
    "\n",
    "    def compile(self, d_optimizer, g_optimizer, loss_fn):\n",
    "        super().compile()\n",
    "        self.d_optimizer = d_optimizer\n",
    "        self.g_optimizer = g_optimizer\n",
    "        self.loss_fn = loss_fn\n",
    "\n",
    "    def train_step(self, data):\n",
    "        real_images, one_hot_labels = data\n",
    "\n",
    "        # apartat 1\n",
    "        image_one_hot_labels = one_hot_labels[:, :, None, None]\n",
    "        image_one_hot_labels = ops.repeat(\n",
    "            image_one_hot_labels, repeats=[image_size * image_size]\n",
    "        )\n",
    "        image_one_hot_labels = ops.reshape(\n",
    "            image_one_hot_labels, (-1, image_size, image_size, num_classes)\n",
    "        )\n",
    "\n",
    "        # apartat 2\n",
    "        batch_size = ops.shape(real_images)[0]\n",
    "        random_latent_vectors = keras.random.normal(\n",
    "            shape=(batch_size, self.latent_dim), seed=self.seed_generator\n",
    "        )\n",
    "        random_vector_labels = ops.concatenate(\n",
    "            [random_latent_vectors, one_hot_labels], axis=1\n",
    "        )\n",
    "\n",
    "        # apartat 3\n",
    "        generated_images = self.generator(random_vector_labels)\n",
    "\n",
    "        # apartat 4\n",
    "        fake_image_and_labels = ops.concatenate(\n",
    "            [generated_images, image_one_hot_labels], -1\n",
    "        )\n",
    "        # apartat 5\n",
    "        real_image_and_labels = ops.concatenate([real_images, image_one_hot_labels], -1)\n",
    "\n",
    "        # apartat 6\n",
    "        combined_images = ops.concatenate(\n",
    "            [fake_image_and_labels, real_image_and_labels], axis=0\n",
    "        )\n",
    "\n",
    "        # apartat 7\n",
    "        labels = ops.concatenate(\n",
    "            [ops.ones((batch_size, 1)), ops.zeros((batch_size, 1))], axis=0\n",
    "        )\n",
    "\n",
    "        # apartat 8\n",
    "        with tf.GradientTape() as tape:\n",
    "            predictions = self.discriminator(combined_images)\n",
    "            d_loss = self.loss_fn(labels, predictions)\n",
    "        grads = tape.gradient(d_loss, self.discriminator.trainable_weights)\n",
    "        self.d_optimizer.apply_gradients(\n",
    "            zip(grads, self.discriminator.trainable_weights)\n",
    "        )\n",
    "\n",
    "        # apartat 9\n",
    "        random_latent_vectors = keras.random.normal(\n",
    "            shape=(batch_size, self.latent_dim), seed=self.seed_generator\n",
    "        )\n",
    "        random_vector_labels = ops.concatenate(\n",
    "            [random_latent_vectors, one_hot_labels], axis=1\n",
    "        )\n",
    "\n",
    "        # apartat 10\n",
    "        misleading_labels = ops.zeros((batch_size, 1))\n",
    "\n",
    "        # apartat 11\n",
    "        with tf.GradientTape() as tape:\n",
    "            fake_images = self.generator(random_vector_labels)\n",
    "            fake_image_and_labels = ops.concatenate(\n",
    "                [fake_images, image_one_hot_labels], -1\n",
    "            )\n",
    "            predictions = self.discriminator(fake_image_and_labels)\n",
    "            g_loss = self.loss_fn(misleading_labels, predictions)\n",
    "        grads = tape.gradient(g_loss, self.generator.trainable_weights)\n",
    "        self.g_optimizer.apply_gradients(zip(grads, self.generator.trainable_weights))\n",
    "\n",
    "        # apartat 12\n",
    "        self.gen_loss_tracker.update_state(g_loss)\n",
    "        self.disc_loss_tracker.update_state(d_loss)\n",
    "        return {\n",
    "            \"g_loss\": self.gen_loss_tracker.result(),\n",
    "            \"d_loss\": self.disc_loss_tracker.result(),\n",
    "        }\n"
   ]
  },
  {
   "cell_type": "markdown",
   "metadata": {
    "id": "xsXrFm79BMe7"
   },
   "source": [
    "<div style=\"background-color: #EDF7FF; border-color: #7C9DBF; border-left: 5px solid #7C9DBF; padding: 0.5em;\">\n",
    "<strong>Pregunta [2,5 pts.]</strong>\n",
    "Omple la taula següent indicant el que significa cadascun dels apartats del codi:      \n",
    "</div>"
   ]
  },
  {
   "cell_type": "markdown",
   "metadata": {
    "id": "S7_03ETzBMe7"
   },
   "source": [
    "| Apartat   | Descripció  |\n",
    "|-----------|-------------|\n",
    "| Apartat 1 | Prepara les one-hot encoded classes per les imatges reals convertintlos via repeticio en les mateixes dimensions que les imatges. D'aquesta manera es podran concatenar i cada pixel tindra un label associat |\n",
    "| Apartat 2 | Generem els vectors latents aleatoris, que seran el soroll que es concatena a les classes |\n",
    "| Apartat 3 | El generador crea les imatges sintetiques |\n",
    "| Apartat 4 | Preparacio de les imatges sintetiques i el labels per al discriminador |\n",
    "| Apartat 5 | Prepara les imatges reals amb els corresponents one-hot labels per al discriminador |\n",
    "| Apartat 6 | Combina les imatges reals i les sintetiques en un batch per poder-ho donar al discriminador |\n",
    "| Apartat 7 | Es crea una variable labels que conté labels \"1\" per la imatge real i \"0\" per la imatge sintètica |\n",
    "| Apartat 8 | Entrenament del discriminador, fent servir la loss function per calcular els gradients i actualizar els weights |\n",
    "| Apartat 9 | Tornem a generear random_latent vectors i labels (Similar al pas 2) |\n",
    "| Apartat 10| Genera labels per confondre al discriminador, on tots els labels corresponen a imatges sintetiques |\n",
    "| Apartat 11| Actualitza el generador perquè pugui generar noves imatges més dificils de distingir pel discriminador. Genera noves imatges falses, les concatena amb labels, les passa al discriminador i calcula la loss function i actualitza els pesos (weights) del generador |\n",
    "| Apartat 12| Actualitza i retorna les metriques de les funcions de perdua (loss functions) |\n",
    "\n"
   ]
  },
  {
   "cell_type": "markdown",
   "metadata": {
    "id": "h96JVMHJEenA"
   },
   "source": [
    "## 6. Entrenament de la GAN condicional"
   ]
  },
  {
   "cell_type": "markdown",
   "metadata": {
    "id": "zbrqReR-BMe8"
   },
   "source": [
    "<div style=\"background-color: #EDF7FF; border-color: #7C9DBF; border-left: 5px solid #7C9DBF; padding: 0.5em;\">\n",
    "<strong>Pregunta [0,5 pts.]:</strong> Entrena la xarxa mitjançant el codi que segueix. A continuació executa el codi que permetrà l'us de la xarxa entrenada per generar diferents instàncies de classes diferents i construir un GIF animat que mostra la transició entre les imatges de diferent classe. No cal implementar res. Si els apartats anteriors s'han implementat correctament hauria d'executar-se sense problemes.\n",
    "</div>"
   ]
  },
  {
   "cell_type": "code",
   "execution_count": 78,
   "metadata": {
    "colab": {
     "base_uri": "https://localhost:8080/"
    },
    "id": "FMRP2iBgEenA",
    "outputId": "574f063f-1198-468a-b76a-a1a14806067f"
   },
   "outputs": [
    {
     "name": "stdout",
     "output_type": "stream",
     "text": [
      "Epoch 1/20\n",
      "\u001b[1m213/213\u001b[0m \u001b[32m━━━━━━━━━━━━━━━━━━━━\u001b[0m\u001b[37m\u001b[0m \u001b[1m11s\u001b[0m 26ms/step - d_loss: 0.6483 - g_loss: 0.8370\n",
      "Epoch 2/20\n",
      "\u001b[1m213/213\u001b[0m \u001b[32m━━━━━━━━━━━━━━━━━━━━\u001b[0m\u001b[37m\u001b[0m \u001b[1m2s\u001b[0m 8ms/step - d_loss: 0.6229 - g_loss: 0.8369\n",
      "Epoch 3/20\n",
      "\u001b[1m213/213\u001b[0m \u001b[32m━━━━━━━━━━━━━━━━━━━━\u001b[0m\u001b[37m\u001b[0m \u001b[1m2s\u001b[0m 8ms/step - d_loss: 0.6253 - g_loss: 0.8308\n",
      "Epoch 4/20\n",
      "\u001b[1m213/213\u001b[0m \u001b[32m━━━━━━━━━━━━━━━━━━━━\u001b[0m\u001b[37m\u001b[0m \u001b[1m2s\u001b[0m 8ms/step - d_loss: 0.6269 - g_loss: 0.8293\n",
      "Epoch 5/20\n",
      "\u001b[1m213/213\u001b[0m \u001b[32m━━━━━━━━━━━━━━━━━━━━\u001b[0m\u001b[37m\u001b[0m \u001b[1m2s\u001b[0m 8ms/step - d_loss: 0.6251 - g_loss: 0.8409\n",
      "Epoch 6/20\n",
      "\u001b[1m213/213\u001b[0m \u001b[32m━━━━━━━━━━━━━━━━━━━━\u001b[0m\u001b[37m\u001b[0m \u001b[1m2s\u001b[0m 8ms/step - d_loss: 0.6300 - g_loss: 0.8412\n",
      "Epoch 7/20\n",
      "\u001b[1m213/213\u001b[0m \u001b[32m━━━━━━━━━━━━━━━━━━━━\u001b[0m\u001b[37m\u001b[0m \u001b[1m2s\u001b[0m 8ms/step - d_loss: 0.6216 - g_loss: 0.8487\n",
      "Epoch 8/20\n",
      "\u001b[1m213/213\u001b[0m \u001b[32m━━━━━━━━━━━━━━━━━━━━\u001b[0m\u001b[37m\u001b[0m \u001b[1m2s\u001b[0m 8ms/step - d_loss: 0.6266 - g_loss: 0.8317\n",
      "Epoch 9/20\n",
      "\u001b[1m213/213\u001b[0m \u001b[32m━━━━━━━━━━━━━━━━━━━━\u001b[0m\u001b[37m\u001b[0m \u001b[1m2s\u001b[0m 8ms/step - d_loss: 0.6234 - g_loss: 0.8424\n",
      "Epoch 10/20\n",
      "\u001b[1m213/213\u001b[0m \u001b[32m━━━━━━━━━━━━━━━━━━━━\u001b[0m\u001b[37m\u001b[0m \u001b[1m2s\u001b[0m 8ms/step - d_loss: 0.6275 - g_loss: 0.8392\n",
      "Epoch 11/20\n",
      "\u001b[1m213/213\u001b[0m \u001b[32m━━━━━━━━━━━━━━━━━━━━\u001b[0m\u001b[37m\u001b[0m \u001b[1m2s\u001b[0m 8ms/step - d_loss: 0.6241 - g_loss: 0.8377\n",
      "Epoch 12/20\n",
      "\u001b[1m213/213\u001b[0m \u001b[32m━━━━━━━━━━━━━━━━━━━━\u001b[0m\u001b[37m\u001b[0m \u001b[1m2s\u001b[0m 8ms/step - d_loss: 0.6258 - g_loss: 0.8500\n",
      "Epoch 13/20\n",
      "\u001b[1m213/213\u001b[0m \u001b[32m━━━━━━━━━━━━━━━━━━━━\u001b[0m\u001b[37m\u001b[0m \u001b[1m2s\u001b[0m 8ms/step - d_loss: 0.6204 - g_loss: 0.8414\n",
      "Epoch 14/20\n",
      "\u001b[1m213/213\u001b[0m \u001b[32m━━━━━━━━━━━━━━━━━━━━\u001b[0m\u001b[37m\u001b[0m \u001b[1m2s\u001b[0m 9ms/step - d_loss: 0.6228 - g_loss: 0.8395\n",
      "Epoch 15/20\n",
      "\u001b[1m213/213\u001b[0m \u001b[32m━━━━━━━━━━━━━━━━━━━━\u001b[0m\u001b[37m\u001b[0m \u001b[1m2s\u001b[0m 8ms/step - d_loss: 0.6243 - g_loss: 0.8413\n",
      "Epoch 16/20\n",
      "\u001b[1m213/213\u001b[0m \u001b[32m━━━━━━━━━━━━━━━━━━━━\u001b[0m\u001b[37m\u001b[0m \u001b[1m2s\u001b[0m 8ms/step - d_loss: 0.6234 - g_loss: 0.8519\n",
      "Epoch 17/20\n",
      "\u001b[1m213/213\u001b[0m \u001b[32m━━━━━━━━━━━━━━━━━━━━\u001b[0m\u001b[37m\u001b[0m \u001b[1m2s\u001b[0m 9ms/step - d_loss: 0.6249 - g_loss: 0.8488\n",
      "Epoch 18/20\n",
      "\u001b[1m213/213\u001b[0m \u001b[32m━━━━━━━━━━━━━━━━━━━━\u001b[0m\u001b[37m\u001b[0m \u001b[1m2s\u001b[0m 9ms/step - d_loss: 0.6242 - g_loss: 0.8477\n",
      "Epoch 19/20\n",
      "\u001b[1m213/213\u001b[0m \u001b[32m━━━━━━━━━━━━━━━━━━━━\u001b[0m\u001b[37m\u001b[0m \u001b[1m2s\u001b[0m 8ms/step - d_loss: 0.6211 - g_loss: 0.8401\n",
      "Epoch 20/20\n",
      "\u001b[1m213/213\u001b[0m \u001b[32m━━━━━━━━━━━━━━━━━━━━\u001b[0m\u001b[37m\u001b[0m \u001b[1m2s\u001b[0m 9ms/step - d_loss: 0.6154 - g_loss: 0.8482\n"
     ]
    },
    {
     "data": {
      "text/plain": [
       "<keras.src.callbacks.history.History at 0x7b0ca411e3b0>"
      ]
     },
     "execution_count": 78,
     "metadata": {},
     "output_type": "execute_result"
    }
   ],
   "source": [
    "cond_gan = ConditionalGAN(\n",
    "    discriminator=discriminator, generator=generator, latent_dim=latent_dim\n",
    ")\n",
    "cond_gan.compile(\n",
    "    d_optimizer=keras.optimizers.Adam(learning_rate=0.0003),\n",
    "    g_optimizer=keras.optimizers.Adam(learning_rate=0.0003),\n",
    "    loss_fn=keras.losses.BinaryCrossentropy(from_logits=True),\n",
    ")\n",
    "\n",
    "cond_gan.fit(dataset, epochs=20)"
   ]
  },
  {
   "cell_type": "code",
   "execution_count": 99,
   "metadata": {
    "colab": {
     "base_uri": "https://localhost:8080/"
    },
    "id": "vG5ZzgZF0sAT",
    "outputId": "cfbf6cd4-747a-4ced-eabc-cee90bbc2ee3"
   },
   "outputs": [
    {
     "name": "stdout",
     "output_type": "stream",
     "text": [
      "\u001b[1m1/1\u001b[0m \u001b[32m━━━━━━━━━━━━━━━━━━━━\u001b[0m\u001b[37m\u001b[0m \u001b[1m0s\u001b[0m 20ms/step\n"
     ]
    }
   ],
   "source": [
    "trained_gen = cond_gan.generator\n",
    "\n",
    "\n",
    "num_interpolation = 10\n",
    "\n",
    "# Sample noise for the interpolation.\n",
    "interpolation_noise = keras.random.normal(shape=(1, latent_dim))\n",
    "interpolation_noise = ops.repeat(interpolation_noise, repeats=num_interpolation)\n",
    "interpolation_noise = ops.reshape(interpolation_noise, (num_interpolation, latent_dim))\n",
    "\n",
    "\n",
    "def interpolate_class(first_number, second_number):\n",
    "    # Convert the start and end labels to one-hot encoded vectors.\n",
    "    first_label = keras.utils.to_categorical([first_number], num_classes)\n",
    "    second_label = keras.utils.to_categorical([second_number], num_classes)\n",
    "    first_label = ops.cast(first_label, \"float32\")\n",
    "    second_label = ops.cast(second_label, \"float32\")\n",
    "\n",
    "    # Calculate the interpolation vector between the two labels.\n",
    "    percent_second_label = ops.linspace(0, 1, num_interpolation)[:, None]\n",
    "    percent_second_label = ops.cast(percent_second_label, \"float32\")\n",
    "    interpolation_labels = (\n",
    "        first_label * (1 - percent_second_label) + second_label * percent_second_label\n",
    "    )\n",
    "\n",
    "    # Combine the noise and the labels and run inference with the generator.\n",
    "    noise_and_labels = ops.concatenate([interpolation_noise, interpolation_labels], 1)\n",
    "    fake = trained_gen.predict(noise_and_labels)\n",
    "    return fake\n",
    "\n",
    "\n",
    "start_class = 3\n",
    "end_class = 8\n",
    "\n",
    "fake_images = interpolate_class(start_class, end_class)\n"
   ]
  },
  {
   "cell_type": "code",
   "execution_count": 100,
   "metadata": {
    "colab": {
     "base_uri": "https://localhost:8080/",
     "height": 164
    },
    "id": "8kV8NtvC03Nd",
    "outputId": "6ceb453d-ab59-4024-d8a6-087ebb151d36"
   },
   "outputs": [
    {
     "data": {
      "image/png": "[encoded data removed]",
      "text/plain": [
       "<Figure size 2000x400 with 10 Axes>"
      ]
     },
     "metadata": {},
     "output_type": "display_data"
    }
   ],
   "source": [
    "fig, axes = plt.subplots(ncols=len(fake_images), figsize=(20,4))\n",
    "for i, image in enumerate(fake_images):\n",
    "  axes[i].imshow(image)\n",
    "plt.show()\n"
   ]
  },
  {
   "cell_type": "markdown",
   "metadata": {
    "id": "ImNXUzTR4WxT"
   },
   "source": [
    "Aqui es visualitza la transicio del numero 3 al 8:"
   ]
  },
  {
   "cell_type": "code",
   "execution_count": 86,
   "metadata": {
    "colab": {
     "base_uri": "https://localhost:8080/",
     "height": 138
    },
    "id": "t1lJooTi3ggp",
    "outputId": "5d744291-a149-4fcf-88dc-9e649fccab8d"
   },
   "outputs": [
    {
     "data": {
      "text/html": [
       "<img src=\"data:image/gif;base64,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\"/>"
      ],
      "text/plain": [
       "<IPython.core.display.HTML object>"
      ]
     },
     "execution_count": 86,
     "metadata": {},
     "output_type": "execute_result"
    }
   ],
   "source": [
    "fake_images *= 255.0\n",
    "converted_images = fake_images.astype(np.uint8)\n",
    "converted_images = ops.image.resize(converted_images, (96, 96)).numpy().astype(np.uint8)\n",
    "imageio.mimsave(\"animation.gif\", converted_images[:, :, :, 0], fps=1)\n",
    "embed.embed_file(\"animation.gif\")\n"
   ]
  },
  {
   "cell_type": "markdown",
   "metadata": {
    "id": "DDEak3VFEenA"
   },
   "source": [
    "## 7. Interpolació entre classes utilitzant el generador que hem entrenat"
   ]
  },
  {
   "cell_type": "markdown",
   "metadata": {
    "id": "39apKuawBMe8"
   },
   "source": [
    "<div style=\"background-color: #EDF7FF; border-color: #7C9DBF; border-left: 5px solid #7C9DBF; padding: 0.5em;\">\n",
    "<strong>Ejercicio [0,5 pts.]:</strong>\n",
    "Finalment, executa el codi següent. Si l'entrenament s'ha dut a terme correctament hauria der ser capaç de generar interpolacions d'imatges entre imatges generades de diferents classes.    \n",
    "</div>\n",
    "\n",
    "Es podria millorar el rendiment d'aquest model amb receptes com WGAN-GP. La generació condicional també s'utilitza àmpliament en moltes arquitectures modernes de generació d'imatges com VQ-GANs i DALL-E, entre d'altres."
   ]
  },
  {
   "cell_type": "code",
   "execution_count": 89,
   "metadata": {
    "colab": {
     "base_uri": "https://localhost:8080/"
    },
    "id": "Fy2TPvnaEenA",
    "outputId": "27d0e5ec-6059-4942-8ed9-8a011da7db08"
   },
   "outputs": [
    {
     "name": "stdout",
     "output_type": "stream",
     "text": [
      "\u001b[1m1/1\u001b[0m \u001b[32m━━━━━━━━━━━━━━━━━━━━\u001b[0m\u001b[37m\u001b[0m \u001b[1m0s\u001b[0m 19ms/step\n"
     ]
    }
   ],
   "source": [
    "# extraiem el generador entrenat del nostre GAN Condicional\n",
    "trained_gen = cond_gan.generator\n",
    "\n",
    "# tria el nombre d'imatges intermèdies que es generarien entre la interpolació + 2 (imatges inicial i final).\n",
    "num_interpolation = 9\n",
    "\n",
    "# soroll per a la interpolació\n",
    "interpolation_noise = keras.random.normal(shape=(1, latent_dim))\n",
    "interpolation_noise = ops.repeat(interpolation_noise, repeats=num_interpolation)\n",
    "interpolation_noise = ops.reshape(interpolation_noise, (num_interpolation, latent_dim))\n",
    "\n",
    "\n",
    "def interpolate_class(first_number, second_number):\n",
    "    # converteix les etiquetes inicial i final a vectors one-hot.\n",
    "    first_label = keras.utils.to_categorical([first_number], num_classes)\n",
    "    second_label = keras.utils.to_categorical([second_number], num_classes)\n",
    "    first_label = ops.cast(first_label, \"float32\")\n",
    "    second_label = ops.cast(second_label, \"float32\")\n",
    "\n",
    "    # calcula el vector d'interpolació entre les dues etiquetes.\n",
    "    percent_second_label = ops.linspace(0, 1, num_interpolation)[:, None]\n",
    "    percent_second_label = ops.cast(percent_second_label, \"float32\")\n",
    "    interpolation_labels = (\n",
    "        first_label * (1 - percent_second_label) + second_label * percent_second_label\n",
    "    )\n",
    "\n",
    "    # combina el soroll i les etiquetes i executa la inferència amb el generador.\n",
    "    noise_and_labels = ops.concatenate([interpolation_noise, interpolation_labels], 1)\n",
    "    fake = trained_gen.predict(noise_and_labels)\n",
    "    return fake\n",
    "\n",
    "\n",
    "start_class = 2  # primera classe d'interpolació\n",
    "end_class = 6  # última classe d'interpolació\n",
    "\n",
    "fake_images = interpolate_class(start_class, end_class)"
   ]
  },
  {
   "cell_type": "markdown",
   "metadata": {
    "id": "cDAMRH7YEenA"
   },
   "source": [
    "Aquí, primer mostrem soroll d'una distribució normal i després ho repetim per a num_interpolation vegades i donem forma al resultat en conseqüència. Després, el distribuïm uniformement per a num_interpolation amb les etiquetes presents proporcionalment."
   ]
  },
  {
   "cell_type": "code",
   "execution_count": 90,
   "metadata": {
    "colab": {
     "base_uri": "https://localhost:8080/",
     "height": 138
    },
    "id": "KgkFBC2QEenA",
    "outputId": "976ca354-2a76-46cd-de2b-95a5ff6fc6b1"
   },
   "outputs": [
    {
     "data": {
      "text/html": [
       "<img src=\"data:image/gif;base64,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\"/>"
      ],
      "text/plain": [
       "<IPython.core.display.HTML object>"
      ]
     },
     "execution_count": 90,
     "metadata": {},
     "output_type": "execute_result"
    }
   ],
   "source": [
    "fake_images *= 255.0\n",
    "converted_images = fake_images.astype(np.uint8)\n",
    "converted_images = ops.image.resize(converted_images, (96, 96)).numpy().astype(np.uint8)\n",
    "imageio.mimsave(\"animation.gif\", converted_images[:, :, :, 0], fps=1)\n",
    "embed.embed_file(\"animation.gif\")"
   ]
  },
  {
   "cell_type": "markdown",
   "metadata": {
    "id": "5D_6vSPtBMe8"
   },
   "source": [
    "<div style=\"background-color: #EDF7FF; border-color: #7C9DBF; border-left: 5px solid #7C9DBF; padding: 0.5em;\">\n",
    "<strong>Pregunta [0,5 pts.]</strong>\n",
    "Comentar els resultats dels punts 6 i 7:     \n",
    "</div>"
   ]
  },
  {
   "cell_type": "markdown",
   "metadata": {
    "id": "eu3NqIwSBMe9"
   },
   "source": [
    "En l'apartat 6 hem entrenat el model i despres hem creat un objecte geneador a partir del model entrenat. Hem generat imatges sintetiques del numero 3 i 8 per veure com transicionava d'un numero a l'altre en 10 interpolacions. En l'apartat 7 hem fet el mateix pero transicionant del numero 2 al 6, amb 9 interpolacions. Hem fet un gif per visualitzar-ho de forma animada."
   ]
  },
  {
   "cell_type": "code",
   "execution_count": null,
   "metadata": {
    "id": "QH70XQHm5Amx"
   },
   "outputs": [],
   "source": []
  }
 ],
 "metadata": {
  "accelerator": "GPU",
  "colab": {
   "gpuType": "L4",
   "machine_shape": "hm",
   "provenance": []
  },
  "kernelspec": {
   "display_name": "Python 3 (ipykernel)",
   "language": "python",
   "name": "python3"
  },
  "language_info": {
   "codemirror_mode": {
    "name": "ipython",
    "version": 3
   },
   "file_extension": ".py",
   "mimetype": "text/x-python",
   "name": "python",
   "nbconvert_exporter": "python",
   "pygments_lexer": "ipython3",
   "version": "3.8.11"
  },
  "varInspector": {
   "cols": {
    "lenName": 16,
    "lenType": 16,
    "lenVar": 40
   },
   "kernels_config": {
    "python": {
     "delete_cmd_postfix": "",
     "delete_cmd_prefix": "del ",
     "library": "var_list.py",
     "varRefreshCmd": "print(var_dic_list())"
    },
    "r": {
     "delete_cmd_postfix": ") ",
     "delete_cmd_prefix": "rm(",
     "library": "var_list.r",
     "varRefreshCmd": "cat(var_dic_list()) "
    }
   },
   "types_to_exclude": [
    "module",
    "function",
    "builtin_function_or_method",
    "instance",
    "_Feature"
   ],
   "window_display": true
  }
 },
 "nbformat": 4,
 "nbformat_minor": 1
}
